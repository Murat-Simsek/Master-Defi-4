{
 "cells": [
  {
   "cell_type": "code",
   "execution_count": 1,
   "id": "947e9eec-9f08-42c1-aa60-b9919c6d8d06",
   "metadata": {},
   "outputs": [],
   "source": [
    "import pandas as pd\n",
    "import pydicom\n",
    "import os\n",
    "from matplotlib import pyplot as plt\n",
    "import numpy as np"
   ]
  },
  {
   "cell_type": "code",
   "execution_count": 2,
   "id": "14e3be12-399a-4b8c-85b2-86028dd7d7d5",
   "metadata": {},
   "outputs": [],
   "source": [
    "#pip install pydicom"
   ]
  },
  {
   "cell_type": "code",
   "execution_count": 3,
   "id": "db0e9d7f-6737-4774-b295-3a2af27b9c99",
   "metadata": {},
   "outputs": [],
   "source": [
    "df = pd.read_csv('trainSet-rle.csv')"
   ]
  },
  {
   "cell_type": "code",
   "execution_count": 4,
   "id": "5b78f854-6b17-45ae-9c18-750a5dd1de4c",
   "metadata": {},
   "outputs": [
    {
     "data": {
      "text/html": [
       "<div>\n",
       "<style scoped>\n",
       "    .dataframe tbody tr th:only-of-type {\n",
       "        vertical-align: middle;\n",
       "    }\n",
       "\n",
       "    .dataframe tbody tr th {\n",
       "        vertical-align: top;\n",
       "    }\n",
       "\n",
       "    .dataframe thead th {\n",
       "        text-align: right;\n",
       "    }\n",
       "</style>\n",
       "<table border=\"1\" class=\"dataframe\">\n",
       "  <thead>\n",
       "    <tr style=\"text-align: right;\">\n",
       "      <th></th>\n",
       "      <th>ImageId</th>\n",
       "      <th>EncodedPixels</th>\n",
       "    </tr>\n",
       "  </thead>\n",
       "  <tbody>\n",
       "    <tr>\n",
       "      <th>0</th>\n",
       "      <td>1.2.276.0.7230010.3.1.4.8323329.5597.151787518...</td>\n",
       "      <td>-1</td>\n",
       "    </tr>\n",
       "    <tr>\n",
       "      <th>1</th>\n",
       "      <td>1.2.276.0.7230010.3.1.4.8323329.12515.15178752...</td>\n",
       "      <td>-1</td>\n",
       "    </tr>\n",
       "    <tr>\n",
       "      <th>2</th>\n",
       "      <td>1.2.276.0.7230010.3.1.4.8323329.4904.151787518...</td>\n",
       "      <td>175349 7 1013 12 1009 17 1005 19 1003 20 1002...</td>\n",
       "    </tr>\n",
       "    <tr>\n",
       "      <th>3</th>\n",
       "      <td>1.2.276.0.7230010.3.1.4.8323329.32579.15178751...</td>\n",
       "      <td>407576 2 1021 7 1015 10 1013 12 1011 14 1008 ...</td>\n",
       "    </tr>\n",
       "    <tr>\n",
       "      <th>4</th>\n",
       "      <td>1.2.276.0.7230010.3.1.4.8323329.32579.15178751...</td>\n",
       "      <td>252069 1 1021 3 1020 4 1018 5 1018 6 1016 7 1...</td>\n",
       "    </tr>\n",
       "  </tbody>\n",
       "</table>\n",
       "</div>"
      ],
      "text/plain": [
       "                                             ImageId  \\\n",
       "0  1.2.276.0.7230010.3.1.4.8323329.5597.151787518...   \n",
       "1  1.2.276.0.7230010.3.1.4.8323329.12515.15178752...   \n",
       "2  1.2.276.0.7230010.3.1.4.8323329.4904.151787518...   \n",
       "3  1.2.276.0.7230010.3.1.4.8323329.32579.15178751...   \n",
       "4  1.2.276.0.7230010.3.1.4.8323329.32579.15178751...   \n",
       "\n",
       "                                       EncodedPixels  \n",
       "0                                                 -1  \n",
       "1                                                 -1  \n",
       "2   175349 7 1013 12 1009 17 1005 19 1003 20 1002...  \n",
       "3   407576 2 1021 7 1015 10 1013 12 1011 14 1008 ...  \n",
       "4   252069 1 1021 3 1020 4 1018 5 1018 6 1016 7 1...  "
      ]
     },
     "execution_count": 4,
     "metadata": {},
     "output_type": "execute_result"
    }
   ],
   "source": [
    "df.head()"
   ]
  },
  {
   "cell_type": "code",
   "execution_count": 5,
   "id": "f904ab0f-9fe8-48f5-86e2-373d3ed675a0",
   "metadata": {},
   "outputs": [
    {
     "name": "stdout",
     "output_type": "stream",
     "text": [
      "<class 'pandas.core.frame.DataFrame'>\n",
      "RangeIndex: 10504 entries, 0 to 10503\n",
      "Data columns (total 2 columns):\n",
      " #   Column         Non-Null Count  Dtype \n",
      "---  ------         --------------  ----- \n",
      " 0   ImageId        10504 non-null  object\n",
      " 1   EncodedPixels  10504 non-null  object\n",
      "dtypes: object(2)\n",
      "memory usage: 164.2+ KB\n"
     ]
    }
   ],
   "source": [
    "df.info()"
   ]
  },
  {
   "cell_type": "code",
   "execution_count": 6,
   "id": "3d219803-f799-42cb-ae63-1999cb16593c",
   "metadata": {
    "tags": []
   },
   "outputs": [],
   "source": [
    "df['EncodedPixels'] = np.where(df['EncodedPixels']==' -1', 0,1 )   "
   ]
  },
  {
   "cell_type": "code",
   "execution_count": 7,
   "id": "2a59a471-4647-49c0-85b2-12c760edcf16",
   "metadata": {},
   "outputs": [
    {
     "data": {
      "text/plain": [
       "9676"
      ]
     },
     "execution_count": 7,
     "metadata": {},
     "output_type": "execute_result"
    }
   ],
   "source": [
    "df['ImageId'].nunique()"
   ]
  },
  {
   "cell_type": "code",
   "execution_count": 8,
   "id": "c4163913-2d27-43bb-89cc-8bbb1cf8cad6",
   "metadata": {},
   "outputs": [],
   "source": [
    "PathDicom = 'C:/Users/Casper/Desktop/Master1-Cours/rstudio and Python/Application pratique Defi 4/dicom-images-train'\n",
    "\n",
    "lstFilesDCM = []  # create an empty list\n",
    "for dirName, subdirList, fileList in os.walk(PathDicom):\n",
    "    for filename in fileList:\n",
    "        if \".dcm\" in filename.lower():  # check whether the file's DICOM\n",
    "            lstFilesDCM.append(os.path.join(dirName,filename))\n",
    "   "
   ]
  },
  {
   "cell_type": "code",
   "execution_count": 9,
   "id": "6ecf2a58-a5ca-476b-96c7-cce19d6f2bc4",
   "metadata": {},
   "outputs": [
    {
     "data": {
      "text/plain": [
       "9712"
      ]
     },
     "execution_count": 9,
     "metadata": {},
     "output_type": "execute_result"
    }
   ],
   "source": [
    "len(lstFilesDCM)"
   ]
  },
  {
   "cell_type": "code",
   "execution_count": 10,
   "id": "88a0787f-eff0-4aa8-af03-e7ff53873b95",
   "metadata": {},
   "outputs": [],
   "source": [
    "imgL = [pydicom.read_file(x) for x in lstFilesDCM]"
   ]
  },
  {
   "cell_type": "code",
   "execution_count": 11,
   "id": "4bd11730-6965-4ea5-95ff-16b22b1a70f6",
   "metadata": {},
   "outputs": [
    {
     "data": {
      "text/plain": [
       "9712"
      ]
     },
     "execution_count": 11,
     "metadata": {},
     "output_type": "execute_result"
    }
   ],
   "source": [
    "len(imgL)"
   ]
  },
  {
   "cell_type": "code",
   "execution_count": 12,
   "id": "220a6236-95ed-45f9-840c-be24bd66b872",
   "metadata": {},
   "outputs": [],
   "source": [
    "scans=[]\n",
    "for file in lstFilesDCM:\n",
    "          dicomds = pydicom.read_file(file,)\n",
    "          scans.append(dicomds)\n"
   ]
  },
  {
   "cell_type": "code",
   "execution_count": 13,
   "id": "65866496-e036-4f1c-bb59-519ac58a7633",
   "metadata": {
    "tags": []
   },
   "outputs": [
    {
     "data": {
      "text/plain": [
       "Dataset.file_meta -------------------------------\n",
       "(0002, 0000) File Meta Information Group Length  UL: 202\n",
       "(0002, 0001) File Meta Information Version       OB: b'\\x00\\x01'\n",
       "(0002, 0002) Media Storage SOP Class UID         UI: Secondary Capture Image Storage\n",
       "(0002, 0003) Media Storage SOP Instance UID      UI: 1.2.276.0.7230010.3.1.4.8323329.10000.1517875220.938530\n",
       "(0002, 0010) Transfer Syntax UID                 UI: JPEG Baseline (Process 1)\n",
       "(0002, 0012) Implementation Class UID            UI: 1.2.276.0.7230010.3.0.3.6.0\n",
       "(0002, 0013) Implementation Version Name         SH: 'OFFIS_DCMTK_360'\n",
       "-------------------------------------------------\n",
       "(0008, 0005) Specific Character Set              CS: 'ISO_IR 100'\n",
       "(0008, 0016) SOP Class UID                       UI: Secondary Capture Image Storage\n",
       "(0008, 0018) SOP Instance UID                    UI: 1.2.276.0.7230010.3.1.4.8323329.10000.1517875220.938530\n",
       "(0008, 0020) Study Date                          DA: '19010101'\n",
       "(0008, 0030) Study Time                          TM: '000000.00'\n",
       "(0008, 0050) Accession Number                    SH: ''\n",
       "(0008, 0060) Modality                            CS: 'CR'\n",
       "(0008, 0064) Conversion Type                     CS: 'WSD'\n",
       "(0008, 0090) Referring Physician's Name          PN: ''\n",
       "(0008, 103e) Series Description                  LO: 'view: AP'\n",
       "(0010, 0010) Patient's Name                      PN: '8ab1ffda-8b65-4914-95d6-2e549e328666'\n",
       "(0010, 0020) Patient ID                          LO: '8ab1ffda-8b65-4914-95d6-2e549e328666'\n",
       "(0010, 0030) Patient's Birth Date                DA: ''\n",
       "(0010, 0040) Patient's Sex                       CS: 'F'\n",
       "(0010, 1010) Patient's Age                       AS: '10'\n",
       "(0018, 0015) Body Part Examined                  CS: 'CHEST'\n",
       "(0018, 5101) View Position                       CS: 'AP'\n",
       "(0020, 000d) Study Instance UID                  UI: 1.2.276.0.7230010.3.1.2.8323329.10000.1517875220.938529\n",
       "(0020, 000e) Series Instance UID                 UI: 1.2.276.0.7230010.3.1.3.8323329.10000.1517875220.938528\n",
       "(0020, 0010) Study ID                            SH: ''\n",
       "(0020, 0011) Series Number                       IS: '1'\n",
       "(0020, 0013) Instance Number                     IS: '1'\n",
       "(0020, 0020) Patient Orientation                 CS: ''\n",
       "(0028, 0002) Samples per Pixel                   US: 1\n",
       "(0028, 0004) Photometric Interpretation          CS: 'MONOCHROME2'\n",
       "(0028, 0010) Rows                                US: 1024\n",
       "(0028, 0011) Columns                             US: 1024\n",
       "(0028, 0030) Pixel Spacing                       DS: [0.139, 0.139]\n",
       "(0028, 0100) Bits Allocated                      US: 8\n",
       "(0028, 0101) Bits Stored                         US: 8\n",
       "(0028, 0102) High Bit                            US: 7\n",
       "(0028, 0103) Pixel Representation                US: 0\n",
       "(0028, 2110) Lossy Image Compression             CS: '01'\n",
       "(0028, 2114) Lossy Image Compression Method      CS: 'ISO_10918_1'\n",
       "(7fe0, 0010) Pixel Data                          OB: Array of 116234 elements"
      ]
     },
     "execution_count": 13,
     "metadata": {},
     "output_type": "execute_result"
    }
   ],
   "source": [
    "scans[0]"
   ]
  },
  {
   "cell_type": "code",
   "execution_count": 14,
   "id": "0b6e14f6-197e-49d2-8605-efd38b72c9fa",
   "metadata": {},
   "outputs": [],
   "source": [
    "# df_img_dataset = pd.DataFrame(scans)"
   ]
  },
  {
   "cell_type": "code",
   "execution_count": 15,
   "id": "f886d631-5b07-46e3-a290-11e2457b7947",
   "metadata": {},
   "outputs": [],
   "source": [
    "# df_img_dataset[13][1][-1]"
   ]
  },
  {
   "cell_type": "code",
   "execution_count": null,
   "id": "f1e807e5-2adc-4a4a-a568-03b9f38b0aee",
   "metadata": {},
   "outputs": [],
   "source": []
  },
  {
   "cell_type": "code",
   "execution_count": null,
   "id": "95898754-784f-42ca-9e67-40b5b8dc48d3",
   "metadata": {
    "tags": []
   },
   "outputs": [],
   "source": []
  },
  {
   "cell_type": "code",
   "execution_count": 16,
   "id": "d9b6bfc7-d83f-44cf-befc-d3185caf3808",
   "metadata": {},
   "outputs": [],
   "source": [
    "# img_list_id = []\n",
    "# for i in range(9712):\n",
    "#     sop = imgL[i]['SOPInstanceUID'][:100]['PatientsSex']\n",
    "#     img_list_id.append(sop)"
   ]
  },
  {
   "cell_type": "code",
   "execution_count": 17,
   "id": "f9141010-3441-4fb6-8c35-bbe69d40d054",
   "metadata": {},
   "outputs": [],
   "source": [
    "# imgL[0]['SOPInstanceUID']"
   ]
  },
  {
   "cell_type": "code",
   "execution_count": 18,
   "id": "6a029606-4a4a-4906-8f42-d2a1cf7996bf",
   "metadata": {},
   "outputs": [],
   "source": [
    "# img_list = pd.DataFrame(img_list_id,columns=['ImageId'])"
   ]
  },
  {
   "cell_type": "code",
   "execution_count": 19,
   "id": "6c24754b-0c5f-4623-b0b8-34299b62531d",
   "metadata": {},
   "outputs": [],
   "source": [
    "# imgL[0].to_dataframe()"
   ]
  },
  {
   "cell_type": "code",
   "execution_count": null,
   "id": "0bc8d321-c1d5-4c77-8bce-e4e1431131c3",
   "metadata": {},
   "outputs": [],
   "source": []
  },
  {
   "cell_type": "code",
   "execution_count": null,
   "id": "40dfaa24-7018-4172-afd5-7c997d89d56c",
   "metadata": {},
   "outputs": [],
   "source": []
  },
  {
   "cell_type": "code",
   "execution_count": null,
   "id": "189de2f7-c8bd-42fb-8aa6-0eb9c54f46ac",
   "metadata": {},
   "outputs": [],
   "source": []
  },
  {
   "cell_type": "code",
   "execution_count": 20,
   "id": "69a86df4-1da5-4af0-8dcc-777c696fb8cc",
   "metadata": {},
   "outputs": [],
   "source": [
    "import pydicom\n",
    "import pandas as pd\n",
    "import os\n",
    "\n",
    "# Get a list of all the DICOM files in the directory\n",
    "files = lstFilesDCM\n",
    "\n",
    "# Create an empty list to store the dataframes\n",
    "dataframes = []\n",
    "i=0\n",
    "# Loop through the files\n",
    "for file in files:\n",
    "    # Read the DICOM file\n",
    "    dcm_data = pydicom.dcmread(file)\n",
    "\n",
    "    # Extract the age and sex information from the DICOM file\n",
    "    age = dcm_data.PatientAge\n",
    "    sex = dcm_data.PatientSex\n",
    "    ids = dcm_data.SOPInstanceUID\n",
    "\n",
    "    # Create a dataframe with the age and sex information\n",
    "    data = {\"age\": age, \"sex\": sex,\"ImageId\" : ids}\n",
    "    df_s = pd.DataFrame(data,index=[i])\n",
    "    i=i+1\n",
    "\n",
    "    # Add the dataframe to the list of dataframes\n",
    "    dataframes.append(df_s)\n",
    "\n",
    "# Concatenate all the dataframes into a single dataframe\n",
    "df_i = pd.concat(dataframes)\n"
   ]
  },
  {
   "cell_type": "code",
   "execution_count": 21,
   "id": "848f22a9-b2ab-427e-a1e3-9a664e5a532e",
   "metadata": {},
   "outputs": [
    {
     "data": {
      "text/html": [
       "<div>\n",
       "<style scoped>\n",
       "    .dataframe tbody tr th:only-of-type {\n",
       "        vertical-align: middle;\n",
       "    }\n",
       "\n",
       "    .dataframe tbody tr th {\n",
       "        vertical-align: top;\n",
       "    }\n",
       "\n",
       "    .dataframe thead th {\n",
       "        text-align: right;\n",
       "    }\n",
       "</style>\n",
       "<table border=\"1\" class=\"dataframe\">\n",
       "  <thead>\n",
       "    <tr style=\"text-align: right;\">\n",
       "      <th></th>\n",
       "      <th>age</th>\n",
       "      <th>sex</th>\n",
       "      <th>ImageId</th>\n",
       "    </tr>\n",
       "  </thead>\n",
       "  <tbody>\n",
       "    <tr>\n",
       "      <th>0</th>\n",
       "      <td>10</td>\n",
       "      <td>F</td>\n",
       "      <td>1.2.276.0.7230010.3.1.4.8323329.10000.15178752...</td>\n",
       "    </tr>\n",
       "    <tr>\n",
       "      <th>1</th>\n",
       "      <td>50</td>\n",
       "      <td>F</td>\n",
       "      <td>1.2.276.0.7230010.3.1.4.8323329.10001.15178752...</td>\n",
       "    </tr>\n",
       "    <tr>\n",
       "      <th>2</th>\n",
       "      <td>68</td>\n",
       "      <td>F</td>\n",
       "      <td>1.2.276.0.7230010.3.1.4.8323329.10002.15178752...</td>\n",
       "    </tr>\n",
       "    <tr>\n",
       "      <th>3</th>\n",
       "      <td>65</td>\n",
       "      <td>M</td>\n",
       "      <td>1.2.276.0.7230010.3.1.4.8323329.10003.15178752...</td>\n",
       "    </tr>\n",
       "    <tr>\n",
       "      <th>4</th>\n",
       "      <td>45</td>\n",
       "      <td>F</td>\n",
       "      <td>1.2.276.0.7230010.3.1.4.8323329.10004.15178752...</td>\n",
       "    </tr>\n",
       "    <tr>\n",
       "      <th>...</th>\n",
       "      <td>...</td>\n",
       "      <td>...</td>\n",
       "      <td>...</td>\n",
       "    </tr>\n",
       "    <tr>\n",
       "      <th>9707</th>\n",
       "      <td>47</td>\n",
       "      <td>F</td>\n",
       "      <td>1.2.276.0.7230010.3.1.4.8323329.5792.151787519...</td>\n",
       "    </tr>\n",
       "    <tr>\n",
       "      <th>9708</th>\n",
       "      <td>76</td>\n",
       "      <td>M</td>\n",
       "      <td>1.2.276.0.7230010.3.1.4.8323329.5793.151787519...</td>\n",
       "    </tr>\n",
       "    <tr>\n",
       "      <th>9709</th>\n",
       "      <td>58</td>\n",
       "      <td>M</td>\n",
       "      <td>1.2.276.0.7230010.3.1.4.8323329.5794.151787519...</td>\n",
       "    </tr>\n",
       "    <tr>\n",
       "      <th>9710</th>\n",
       "      <td>16</td>\n",
       "      <td>M</td>\n",
       "      <td>1.2.276.0.7230010.3.1.4.8323329.5795.151787519...</td>\n",
       "    </tr>\n",
       "    <tr>\n",
       "      <th>9711</th>\n",
       "      <td>43</td>\n",
       "      <td>F</td>\n",
       "      <td>1.2.276.0.7230010.3.1.4.8323329.5796.151787519...</td>\n",
       "    </tr>\n",
       "  </tbody>\n",
       "</table>\n",
       "<p>9712 rows × 3 columns</p>\n",
       "</div>"
      ],
      "text/plain": [
       "     age sex                                            ImageId\n",
       "0     10   F  1.2.276.0.7230010.3.1.4.8323329.10000.15178752...\n",
       "1     50   F  1.2.276.0.7230010.3.1.4.8323329.10001.15178752...\n",
       "2     68   F  1.2.276.0.7230010.3.1.4.8323329.10002.15178752...\n",
       "3     65   M  1.2.276.0.7230010.3.1.4.8323329.10003.15178752...\n",
       "4     45   F  1.2.276.0.7230010.3.1.4.8323329.10004.15178752...\n",
       "...   ..  ..                                                ...\n",
       "9707  47   F  1.2.276.0.7230010.3.1.4.8323329.5792.151787519...\n",
       "9708  76   M  1.2.276.0.7230010.3.1.4.8323329.5793.151787519...\n",
       "9709  58   M  1.2.276.0.7230010.3.1.4.8323329.5794.151787519...\n",
       "9710  16   M  1.2.276.0.7230010.3.1.4.8323329.5795.151787519...\n",
       "9711  43   F  1.2.276.0.7230010.3.1.4.8323329.5796.151787519...\n",
       "\n",
       "[9712 rows x 3 columns]"
      ]
     },
     "execution_count": 21,
     "metadata": {},
     "output_type": "execute_result"
    }
   ],
   "source": [
    "df_i"
   ]
  },
  {
   "cell_type": "code",
   "execution_count": 22,
   "id": "df3a852b-ff7d-465b-9e0b-0eec34469595",
   "metadata": {},
   "outputs": [
    {
     "data": {
      "text/html": [
       "<div>\n",
       "<style scoped>\n",
       "    .dataframe tbody tr th:only-of-type {\n",
       "        vertical-align: middle;\n",
       "    }\n",
       "\n",
       "    .dataframe tbody tr th {\n",
       "        vertical-align: top;\n",
       "    }\n",
       "\n",
       "    .dataframe thead th {\n",
       "        text-align: right;\n",
       "    }\n",
       "</style>\n",
       "<table border=\"1\" class=\"dataframe\">\n",
       "  <thead>\n",
       "    <tr style=\"text-align: right;\">\n",
       "      <th></th>\n",
       "      <th>ImageId</th>\n",
       "      <th>EncodedPixels</th>\n",
       "    </tr>\n",
       "  </thead>\n",
       "  <tbody>\n",
       "    <tr>\n",
       "      <th>0</th>\n",
       "      <td>1.2.276.0.7230010.3.1.4.8323329.5597.151787518...</td>\n",
       "      <td>0</td>\n",
       "    </tr>\n",
       "    <tr>\n",
       "      <th>1</th>\n",
       "      <td>1.2.276.0.7230010.3.1.4.8323329.12515.15178752...</td>\n",
       "      <td>0</td>\n",
       "    </tr>\n",
       "    <tr>\n",
       "      <th>2</th>\n",
       "      <td>1.2.276.0.7230010.3.1.4.8323329.4904.151787518...</td>\n",
       "      <td>1</td>\n",
       "    </tr>\n",
       "    <tr>\n",
       "      <th>3</th>\n",
       "      <td>1.2.276.0.7230010.3.1.4.8323329.32579.15178751...</td>\n",
       "      <td>1</td>\n",
       "    </tr>\n",
       "    <tr>\n",
       "      <th>4</th>\n",
       "      <td>1.2.276.0.7230010.3.1.4.8323329.32579.15178751...</td>\n",
       "      <td>1</td>\n",
       "    </tr>\n",
       "    <tr>\n",
       "      <th>...</th>\n",
       "      <td>...</td>\n",
       "      <td>...</td>\n",
       "    </tr>\n",
       "    <tr>\n",
       "      <th>10499</th>\n",
       "      <td>1.2.276.0.7230010.3.1.4.8323329.4461.151787518...</td>\n",
       "      <td>1</td>\n",
       "    </tr>\n",
       "    <tr>\n",
       "      <th>10500</th>\n",
       "      <td>1.2.276.0.7230010.3.1.4.8323329.4461.151787518...</td>\n",
       "      <td>1</td>\n",
       "    </tr>\n",
       "    <tr>\n",
       "      <th>10501</th>\n",
       "      <td>1.2.276.0.7230010.3.1.4.8323329.4461.151787518...</td>\n",
       "      <td>1</td>\n",
       "    </tr>\n",
       "    <tr>\n",
       "      <th>10502</th>\n",
       "      <td>1.2.276.0.7230010.3.1.4.8323329.13252.15178752...</td>\n",
       "      <td>0</td>\n",
       "    </tr>\n",
       "    <tr>\n",
       "      <th>10503</th>\n",
       "      <td>1.2.276.0.7230010.3.1.4.8323329.12050.15178752...</td>\n",
       "      <td>0</td>\n",
       "    </tr>\n",
       "  </tbody>\n",
       "</table>\n",
       "<p>10504 rows × 2 columns</p>\n",
       "</div>"
      ],
      "text/plain": [
       "                                                 ImageId  EncodedPixels\n",
       "0      1.2.276.0.7230010.3.1.4.8323329.5597.151787518...              0\n",
       "1      1.2.276.0.7230010.3.1.4.8323329.12515.15178752...              0\n",
       "2      1.2.276.0.7230010.3.1.4.8323329.4904.151787518...              1\n",
       "3      1.2.276.0.7230010.3.1.4.8323329.32579.15178751...              1\n",
       "4      1.2.276.0.7230010.3.1.4.8323329.32579.15178751...              1\n",
       "...                                                  ...            ...\n",
       "10499  1.2.276.0.7230010.3.1.4.8323329.4461.151787518...              1\n",
       "10500  1.2.276.0.7230010.3.1.4.8323329.4461.151787518...              1\n",
       "10501  1.2.276.0.7230010.3.1.4.8323329.4461.151787518...              1\n",
       "10502  1.2.276.0.7230010.3.1.4.8323329.13252.15178752...              0\n",
       "10503  1.2.276.0.7230010.3.1.4.8323329.12050.15178752...              0\n",
       "\n",
       "[10504 rows x 2 columns]"
      ]
     },
     "execution_count": 22,
     "metadata": {},
     "output_type": "execute_result"
    }
   ],
   "source": [
    "df"
   ]
  },
  {
   "cell_type": "code",
   "execution_count": 23,
   "id": "a1aee905-0b25-4ed0-8f9d-d9dda5174f46",
   "metadata": {},
   "outputs": [],
   "source": [
    "df_f = pd.merge(df,df_i,on=\"ImageId\",how=\"right\")"
   ]
  },
  {
   "cell_type": "code",
   "execution_count": 24,
   "id": "ab24556a-11ca-427d-90d0-e04e06d909db",
   "metadata": {},
   "outputs": [
    {
     "data": {
      "text/plain": [
       "10540"
      ]
     },
     "execution_count": 24,
     "metadata": {},
     "output_type": "execute_result"
    }
   ],
   "source": [
    "len(df_f['age'])"
   ]
  },
  {
   "cell_type": "code",
   "execution_count": 25,
   "id": "1bd9557b-bb93-46f9-ac5d-d707935395fb",
   "metadata": {},
   "outputs": [
    {
     "data": {
      "text/html": [
       "<div>\n",
       "<style scoped>\n",
       "    .dataframe tbody tr th:only-of-type {\n",
       "        vertical-align: middle;\n",
       "    }\n",
       "\n",
       "    .dataframe tbody tr th {\n",
       "        vertical-align: top;\n",
       "    }\n",
       "\n",
       "    .dataframe thead th {\n",
       "        text-align: right;\n",
       "    }\n",
       "</style>\n",
       "<table border=\"1\" class=\"dataframe\">\n",
       "  <thead>\n",
       "    <tr style=\"text-align: right;\">\n",
       "      <th></th>\n",
       "      <th>ImageId</th>\n",
       "      <th>EncodedPixels</th>\n",
       "      <th>age</th>\n",
       "      <th>sex</th>\n",
       "    </tr>\n",
       "  </thead>\n",
       "  <tbody>\n",
       "    <tr>\n",
       "      <th>0</th>\n",
       "      <td>1.2.276.0.7230010.3.1.4.8323329.10000.15178752...</td>\n",
       "      <td>0.0</td>\n",
       "      <td>10</td>\n",
       "      <td>F</td>\n",
       "    </tr>\n",
       "    <tr>\n",
       "      <th>1</th>\n",
       "      <td>1.2.276.0.7230010.3.1.4.8323329.10001.15178752...</td>\n",
       "      <td>0.0</td>\n",
       "      <td>50</td>\n",
       "      <td>F</td>\n",
       "    </tr>\n",
       "    <tr>\n",
       "      <th>2</th>\n",
       "      <td>1.2.276.0.7230010.3.1.4.8323329.10002.15178752...</td>\n",
       "      <td>0.0</td>\n",
       "      <td>68</td>\n",
       "      <td>F</td>\n",
       "    </tr>\n",
       "    <tr>\n",
       "      <th>3</th>\n",
       "      <td>1.2.276.0.7230010.3.1.4.8323329.10003.15178752...</td>\n",
       "      <td>0.0</td>\n",
       "      <td>65</td>\n",
       "      <td>M</td>\n",
       "    </tr>\n",
       "    <tr>\n",
       "      <th>4</th>\n",
       "      <td>1.2.276.0.7230010.3.1.4.8323329.10004.15178752...</td>\n",
       "      <td>0.0</td>\n",
       "      <td>45</td>\n",
       "      <td>F</td>\n",
       "    </tr>\n",
       "    <tr>\n",
       "      <th>...</th>\n",
       "      <td>...</td>\n",
       "      <td>...</td>\n",
       "      <td>...</td>\n",
       "      <td>...</td>\n",
       "    </tr>\n",
       "    <tr>\n",
       "      <th>10535</th>\n",
       "      <td>1.2.276.0.7230010.3.1.4.8323329.5792.151787519...</td>\n",
       "      <td>0.0</td>\n",
       "      <td>47</td>\n",
       "      <td>F</td>\n",
       "    </tr>\n",
       "    <tr>\n",
       "      <th>10536</th>\n",
       "      <td>1.2.276.0.7230010.3.1.4.8323329.5793.151787519...</td>\n",
       "      <td>0.0</td>\n",
       "      <td>76</td>\n",
       "      <td>M</td>\n",
       "    </tr>\n",
       "    <tr>\n",
       "      <th>10537</th>\n",
       "      <td>1.2.276.0.7230010.3.1.4.8323329.5794.151787519...</td>\n",
       "      <td>0.0</td>\n",
       "      <td>58</td>\n",
       "      <td>M</td>\n",
       "    </tr>\n",
       "    <tr>\n",
       "      <th>10538</th>\n",
       "      <td>1.2.276.0.7230010.3.1.4.8323329.5795.151787519...</td>\n",
       "      <td>1.0</td>\n",
       "      <td>16</td>\n",
       "      <td>M</td>\n",
       "    </tr>\n",
       "    <tr>\n",
       "      <th>10539</th>\n",
       "      <td>1.2.276.0.7230010.3.1.4.8323329.5796.151787519...</td>\n",
       "      <td>0.0</td>\n",
       "      <td>43</td>\n",
       "      <td>F</td>\n",
       "    </tr>\n",
       "  </tbody>\n",
       "</table>\n",
       "<p>10540 rows × 4 columns</p>\n",
       "</div>"
      ],
      "text/plain": [
       "                                                 ImageId  EncodedPixels age  \\\n",
       "0      1.2.276.0.7230010.3.1.4.8323329.10000.15178752...            0.0  10   \n",
       "1      1.2.276.0.7230010.3.1.4.8323329.10001.15178752...            0.0  50   \n",
       "2      1.2.276.0.7230010.3.1.4.8323329.10002.15178752...            0.0  68   \n",
       "3      1.2.276.0.7230010.3.1.4.8323329.10003.15178752...            0.0  65   \n",
       "4      1.2.276.0.7230010.3.1.4.8323329.10004.15178752...            0.0  45   \n",
       "...                                                  ...            ...  ..   \n",
       "10535  1.2.276.0.7230010.3.1.4.8323329.5792.151787519...            0.0  47   \n",
       "10536  1.2.276.0.7230010.3.1.4.8323329.5793.151787519...            0.0  76   \n",
       "10537  1.2.276.0.7230010.3.1.4.8323329.5794.151787519...            0.0  58   \n",
       "10538  1.2.276.0.7230010.3.1.4.8323329.5795.151787519...            1.0  16   \n",
       "10539  1.2.276.0.7230010.3.1.4.8323329.5796.151787519...            0.0  43   \n",
       "\n",
       "      sex  \n",
       "0       F  \n",
       "1       F  \n",
       "2       F  \n",
       "3       M  \n",
       "4       F  \n",
       "...    ..  \n",
       "10535   F  \n",
       "10536   M  \n",
       "10537   M  \n",
       "10538   M  \n",
       "10539   F  \n",
       "\n",
       "[10540 rows x 4 columns]"
      ]
     },
     "execution_count": 25,
     "metadata": {},
     "output_type": "execute_result"
    }
   ],
   "source": [
    "df_f"
   ]
  },
  {
   "cell_type": "code",
   "execution_count": 26,
   "id": "d32e9941-28d3-4f4a-b10c-046fb553574a",
   "metadata": {},
   "outputs": [],
   "source": [
    "df_f.drop_duplicates(\"ImageId\",inplace=True)"
   ]
  },
  {
   "cell_type": "code",
   "execution_count": 27,
   "id": "fa1d61d2-5969-47ae-b60a-db8ae06a8830",
   "metadata": {},
   "outputs": [],
   "source": [
    "df_f.reset_index(drop=True,inplace=True)"
   ]
  },
  {
   "cell_type": "code",
   "execution_count": null,
   "id": "b3632aae-db6c-4ad2-bb98-7f2fa03c5b15",
   "metadata": {},
   "outputs": [],
   "source": []
  },
  {
   "cell_type": "code",
   "execution_count": 28,
   "id": "f5358ac1-92d3-401d-aea0-ff4e955995b9",
   "metadata": {
    "tags": []
   },
   "outputs": [],
   "source": [
    "# import pandas as pd\n",
    "# from sklearn.preprocessing import MinMaxScaler\n",
    "\n",
    "\n",
    "\n",
    "# # Create a scaler object\n",
    "# scaler = MinMaxScaler(feature_range=(0, 100))\n",
    "\n",
    "# # Scale and encode the values in the \"age\" column\n",
    "# df_f[\"encoded_age\"] = df_f.apply(lambda x: (scaler.fit_transform(df_f.loc[x.index, \"age\"].values.reshape(-1, 1)).flatten()[0] + 128) if x[\"sex\"] == \"M\" else scaler.fit_transform(df_f.loc[x.index, \"age\"].values.reshape(-1, 1)).flatten()[0], axis=1)\n"
   ]
  },
  {
   "cell_type": "code",
   "execution_count": 29,
   "id": "7d1a352d-1991-4965-9cb1-e629f4ef125f",
   "metadata": {
    "tags": []
   },
   "outputs": [],
   "source": [
    "# import pandas as pd\n",
    "# from sklearn.preprocessing import MinMaxScaler\n",
    "\n",
    "# # Create a scaler object\n",
    "# scaler = MinMaxScaler(feature_range=(0, 100))\n",
    "\n",
    "# # Scale and encode the values in the \"age\" column\n",
    "# df_f[\"encoded_age\"] = df_f.apply(lambda x: (scaler.fit_transform(df_f.loc[x.index, \"age\"].values.reshape(-1, 1)).flatten()[0] + 128) if x[\"sex\"] == \"M\" else scaler.fit_transform(df_f.loc[x.index, \"age\"].values.reshape(-1, 1)).flatten()[0], axis=1)\n"
   ]
  },
  {
   "cell_type": "code",
   "execution_count": 30,
   "id": "2569e2c8-0d50-4fd2-9a8c-84563838bfd0",
   "metadata": {},
   "outputs": [],
   "source": [
    "def FemmesScale(age):\n",
    "  # Vérifie que l'âge est bien compris entre 0 et 100\n",
    "  if age < 0 or age > 120:\n",
    "    raise ValueError(\"L'âge doit être compris entre 0 et 100\")\n",
    "\n",
    "  # Calcule l'âge recodé entre 0 et 132\n",
    "  scaled_age = age * 127 / 100\n",
    "\n",
    "  return scaled_age\n",
    "\n",
    "def HommesScale(age):\n",
    "  # Vérifie que l'âge est bien compris entre 0 et 100\n",
    "  if age < 0 or age > 120:\n",
    "    raise ValueError(\"L'âge doit être compris entre 0 et 100\")\n",
    "\n",
    "  # Calcule l'âge recodé entre 128 et 255\n",
    "  scaled_age = age * (255 - 128) / 100 + 128\n",
    "\n",
    "  return scaled_age"
   ]
  },
  {
   "cell_type": "code",
   "execution_count": 31,
   "id": "e02c7587-d469-4bc7-b37b-421c2fac1cb6",
   "metadata": {},
   "outputs": [
    {
     "data": {
      "text/plain": [
       "210.55"
      ]
     },
     "execution_count": 31,
     "metadata": {},
     "output_type": "execute_result"
    }
   ],
   "source": [
    "HommesScale(65)"
   ]
  },
  {
   "cell_type": "code",
   "execution_count": 32,
   "id": "928cfd63-af15-4f71-a3e9-2a3bfa764bed",
   "metadata": {},
   "outputs": [],
   "source": [
    "df_f['age'] = df_f['age'].astype(\"int\")\n",
    "df_f['EncodedPixels'].fillna(0,inplace=True) # Replace NaN by 0 \n",
    "df_f['sex'] = df_f['sex'].replace(\"F\",0)\n",
    "df_f['sex'] = df_f['sex'].replace(\"M\",1)"
   ]
  },
  {
   "cell_type": "code",
   "execution_count": 33,
   "id": "8f35d1a5-c8c0-4376-8e96-b4d319cf09e5",
   "metadata": {},
   "outputs": [
    {
     "data": {
      "text/html": [
       "<div>\n",
       "<style scoped>\n",
       "    .dataframe tbody tr th:only-of-type {\n",
       "        vertical-align: middle;\n",
       "    }\n",
       "\n",
       "    .dataframe tbody tr th {\n",
       "        vertical-align: top;\n",
       "    }\n",
       "\n",
       "    .dataframe thead th {\n",
       "        text-align: right;\n",
       "    }\n",
       "</style>\n",
       "<table border=\"1\" class=\"dataframe\">\n",
       "  <thead>\n",
       "    <tr style=\"text-align: right;\">\n",
       "      <th></th>\n",
       "      <th>ImageId</th>\n",
       "      <th>EncodedPixels</th>\n",
       "      <th>age</th>\n",
       "      <th>sex</th>\n",
       "    </tr>\n",
       "  </thead>\n",
       "  <tbody>\n",
       "    <tr>\n",
       "      <th>1106</th>\n",
       "      <td>1.2.276.0.7230010.3.1.4.8323329.11106.15178752...</td>\n",
       "      <td>0.0</td>\n",
       "      <td>413</td>\n",
       "      <td>0</td>\n",
       "    </tr>\n",
       "    <tr>\n",
       "      <th>8745</th>\n",
       "      <td>1.2.276.0.7230010.3.1.4.8323329.4830.151787518...</td>\n",
       "      <td>0.0</td>\n",
       "      <td>148</td>\n",
       "      <td>1</td>\n",
       "    </tr>\n",
       "  </tbody>\n",
       "</table>\n",
       "</div>"
      ],
      "text/plain": [
       "                                                ImageId  EncodedPixels  age  \\\n",
       "1106  1.2.276.0.7230010.3.1.4.8323329.11106.15178752...            0.0  413   \n",
       "8745  1.2.276.0.7230010.3.1.4.8323329.4830.151787518...            0.0  148   \n",
       "\n",
       "      sex  \n",
       "1106    0  \n",
       "8745    1  "
      ]
     },
     "execution_count": 33,
     "metadata": {},
     "output_type": "execute_result"
    }
   ],
   "source": [
    "df_f[df_f['age']>100]"
   ]
  },
  {
   "cell_type": "code",
   "execution_count": 34,
   "id": "bd2a34b7-06d4-416f-add6-6551113dd666",
   "metadata": {},
   "outputs": [],
   "source": [
    "def replace_age(age):\n",
    "    if age > 100:\n",
    "        return df_f['age'].mean()\n",
    "    else:\n",
    "        return age\n",
    "\n",
    "df_f['age'] = df_f['age'].apply(replace_age)"
   ]
  },
  {
   "cell_type": "code",
   "execution_count": null,
   "id": "c4483b92-6232-47c5-bcdb-9fd8fab02d6c",
   "metadata": {},
   "outputs": [],
   "source": []
  },
  {
   "cell_type": "code",
   "execution_count": 35,
   "id": "7377018d-5971-4e50-bc01-6fc6885f7956",
   "metadata": {},
   "outputs": [
    {
     "data": {
      "text/html": [
       "<div>\n",
       "<style scoped>\n",
       "    .dataframe tbody tr th:only-of-type {\n",
       "        vertical-align: middle;\n",
       "    }\n",
       "\n",
       "    .dataframe tbody tr th {\n",
       "        vertical-align: top;\n",
       "    }\n",
       "\n",
       "    .dataframe thead th {\n",
       "        text-align: right;\n",
       "    }\n",
       "</style>\n",
       "<table border=\"1\" class=\"dataframe\">\n",
       "  <thead>\n",
       "    <tr style=\"text-align: right;\">\n",
       "      <th></th>\n",
       "      <th>ImageId</th>\n",
       "      <th>EncodedPixels</th>\n",
       "      <th>age</th>\n",
       "      <th>sex</th>\n",
       "    </tr>\n",
       "  </thead>\n",
       "  <tbody>\n",
       "  </tbody>\n",
       "</table>\n",
       "</div>"
      ],
      "text/plain": [
       "Empty DataFrame\n",
       "Columns: [ImageId, EncodedPixels, age, sex]\n",
       "Index: []"
      ]
     },
     "execution_count": 35,
     "metadata": {},
     "output_type": "execute_result"
    }
   ],
   "source": [
    "df_f[df_f['EncodedPixels'].isnull()]"
   ]
  },
  {
   "cell_type": "code",
   "execution_count": null,
   "id": "3bafd18e-d093-4326-aeab-06b7c275ebde",
   "metadata": {},
   "outputs": [],
   "source": []
  },
  {
   "cell_type": "code",
   "execution_count": 36,
   "id": "abfc7bdc-7475-43e0-8edf-8b44df68b1ef",
   "metadata": {},
   "outputs": [
    {
     "name": "stdout",
     "output_type": "stream",
     "text": [
      "<class 'pandas.core.frame.DataFrame'>\n",
      "RangeIndex: 9712 entries, 0 to 9711\n",
      "Data columns (total 4 columns):\n",
      " #   Column         Non-Null Count  Dtype  \n",
      "---  ------         --------------  -----  \n",
      " 0   ImageId        9712 non-null   object \n",
      " 1   EncodedPixels  9712 non-null   float64\n",
      " 2   age            9712 non-null   float64\n",
      " 3   sex            9712 non-null   int64  \n",
      "dtypes: float64(2), int64(1), object(1)\n",
      "memory usage: 303.6+ KB\n"
     ]
    }
   ],
   "source": [
    "df_f.info()"
   ]
  },
  {
   "cell_type": "code",
   "execution_count": null,
   "id": "8508f39b-3f93-4282-b93f-c087ab0f3d0a",
   "metadata": {},
   "outputs": [],
   "source": []
  },
  {
   "cell_type": "code",
   "execution_count": null,
   "id": "c8733276-3b91-4fff-910c-5f70425ac8da",
   "metadata": {},
   "outputs": [],
   "source": []
  },
  {
   "cell_type": "code",
   "execution_count": 37,
   "id": "088a5475-b9bf-4483-af53-3349c5150b3a",
   "metadata": {
    "tags": []
   },
   "outputs": [],
   "source": [
    "# ls = []\n",
    "# for x in df_f[['age','sex']:\n",
    "#     if (df_f['sex'][x] == 0):\n",
    "#         df_s = FemmesScale(df_f['age'][x])\n",
    "#         ls.append(df_s)\n",
    "#     else:\n",
    "#         df_s = HommesScale(df_f['age'][x])\n",
    "#         ls.append(df_s)\n",
    "#         #print('hi')\n",
    "# df_f['encoded_age'] = ls"
   ]
  },
  {
   "cell_type": "code",
   "execution_count": 38,
   "id": "930b024d-fda0-4932-9715-e6f4a49ab232",
   "metadata": {},
   "outputs": [],
   "source": [
    "#   df_f[\"scale\"] = \"\"\n",
    "  \n",
    "#   # Iterate over the rows of the DataFrame\n",
    "#   for index, row in df_f.iterrows():\n",
    "#     # If the row is a male, apply the HommesScale function to the age column\n",
    "#     if row[\"sex\"] == \"M\":\n",
    "#       df_f.at[index, \"scale\"] = HommesScale(row[\"age\"])\n",
    "#     # If the row is a female, apply the FemmesScale function to the age column\n",
    "#     elif row[\"sex\"] == \"F\":\n",
    "#       df_f.at[index, \"scale\"] = FemmesScale(row[\"age\"])"
   ]
  },
  {
   "cell_type": "code",
   "execution_count": 39,
   "id": "ca0046fe-42cc-4eab-94c1-1682be83684c",
   "metadata": {},
   "outputs": [],
   "source": [
    "\n",
    "  df_f[\"encoded_age\"] = \"\"\n",
    "  \n",
    "  # Define a dictionary with the mapping of sex to the appropriate function\n",
    "  sex_to_function = {1: HommesScale, 0: FemmesScale}\n",
    "  \n",
    "  # Iterate over the rows of the DataFrame\n",
    "  for index, row in df_f.iterrows():\n",
    "    # Use the dictionary to lookup the appropriate function for the sex\n",
    "    # and apply it to the age column\n",
    "    df_f.at[index, \"encoded_age\"] = sex_to_function[row[\"sex\"]](row[\"age\"])"
   ]
  },
  {
   "cell_type": "code",
   "execution_count": 40,
   "id": "b45e8152-475f-4b2f-8e6b-0cc26f4d6992",
   "metadata": {},
   "outputs": [],
   "source": [
    "df_f['encoded_age']=df_f['encoded_age'].astype(\"int\")"
   ]
  },
  {
   "cell_type": "code",
   "execution_count": 41,
   "id": "98e531e6-5533-4d65-aea7-9a309a1b700a",
   "metadata": {
    "tags": []
   },
   "outputs": [],
   "source": [
    "# # df_f[\"encoded_age\"] = df_f['age'].apply(lambda x: HommesScale(x) if (df_f['sex'] == \"F\") else FemmesScale(x))\n",
    "# df_f[\"encoded_age\"] = df_f.apply(lambda x: HommesScale(x.age) if (x['sex'] == \"F\") else FemmesScale(x.age))\n",
    "# df_f['encoded_age']=df_f['encoded_age'].astype('int')\n",
    "# df_f    "
   ]
  },
  {
   "cell_type": "code",
   "execution_count": null,
   "id": "06310f05-b07a-4f02-a9f3-259b4bdd6ca8",
   "metadata": {},
   "outputs": [],
   "source": []
  },
  {
   "cell_type": "code",
   "execution_count": 42,
   "id": "b5a1bbe0-fdf2-4fa3-855f-d23fdfa4016c",
   "metadata": {
    "tags": []
   },
   "outputs": [],
   "source": [
    "#img = img_list.merge(df,how='left',on='ImageId')"
   ]
  },
  {
   "cell_type": "code",
   "execution_count": 43,
   "id": "24d14568-7835-427a-b211-c3b84907e8f4",
   "metadata": {},
   "outputs": [],
   "source": [
    "#img.info()"
   ]
  },
  {
   "cell_type": "code",
   "execution_count": 44,
   "id": "88c50e56-91e2-4985-b7f9-dd811cb0bb95",
   "metadata": {},
   "outputs": [],
   "source": [
    "#df['compare'] = (df['ImageId'] == df['img_list'])"
   ]
  },
  {
   "cell_type": "code",
   "execution_count": 45,
   "id": "f85a16bc-56d3-4d08-a3c9-41c740d78905",
   "metadata": {},
   "outputs": [],
   "source": [
    "from keras.models import Sequential\n",
    "from keras.layers.core import Dense, Dropout, Activation\n",
    "from sklearn.model_selection import train_test_split\n",
    "from PIL import Image"
   ]
  },
  {
   "cell_type": "code",
   "execution_count": 46,
   "id": "b77677be-7300-4f16-8991-e51e1e34a25b",
   "metadata": {},
   "outputs": [
    {
     "data": {
      "text/plain": [
       "9712"
      ]
     },
     "execution_count": 46,
     "metadata": {},
     "output_type": "execute_result"
    }
   ],
   "source": [
    "len(imgL)"
   ]
  },
  {
   "cell_type": "code",
   "execution_count": 47,
   "id": "7821220b-6c48-48bd-ba97-eac6181156e8",
   "metadata": {},
   "outputs": [],
   "source": [
    "#pip install opencv-python"
   ]
  },
  {
   "cell_type": "code",
   "execution_count": 48,
   "id": "9f11e9a9-c04c-4995-8bbd-f8b3ee2e8a71",
   "metadata": {},
   "outputs": [
    {
     "ename": "KeyboardInterrupt",
     "evalue": "",
     "output_type": "error",
     "traceback": [
      "\u001b[1;31m---------------------------------------------------------------------------\u001b[0m",
      "\u001b[1;31mKeyboardInterrupt\u001b[0m                         Traceback (most recent call last)",
      "\u001b[1;32m~\\AppData\\Local\\Temp\\ipykernel_22208\\3643207564.py\u001b[0m in \u001b[0;36m<module>\u001b[1;34m\u001b[0m\n\u001b[0;32m     20\u001b[0m \u001b[1;33m\u001b[0m\u001b[0m\n\u001b[0;32m     21\u001b[0m   \u001b[1;31m# Make sure the data type of the image data is compatible\u001b[0m\u001b[1;33m\u001b[0m\u001b[1;33m\u001b[0m\u001b[0m\n\u001b[1;32m---> 22\u001b[1;33m   \u001b[0mimage_data\u001b[0m \u001b[1;33m=\u001b[0m \u001b[0mimage_data\u001b[0m\u001b[1;33m.\u001b[0m\u001b[0mastype\u001b[0m\u001b[1;33m(\u001b[0m\u001b[1;34m'uint8'\u001b[0m\u001b[1;33m)\u001b[0m  \u001b[1;31m# or any other compatible data type\u001b[0m\u001b[1;33m\u001b[0m\u001b[1;33m\u001b[0m\u001b[0m\n\u001b[0m\u001b[0;32m     23\u001b[0m \u001b[1;33m\u001b[0m\u001b[0m\n\u001b[0;32m     24\u001b[0m   \u001b[1;31m# Resize the image using OpenCV's resize function\u001b[0m\u001b[1;33m\u001b[0m\u001b[1;33m\u001b[0m\u001b[0m\n",
      "\u001b[1;31mKeyboardInterrupt\u001b[0m: "
     ]
    }
   ],
   "source": [
    "import cv2\n",
    "import pydicom\n",
    "import os\n",
    "\n",
    "# List of image file paths\n",
    "image_paths = lstFilesDCM\n",
    "\n",
    "# Create the new folder\n",
    "new_folder = 'resized_images'\n",
    "if not os.path.exists(new_folder):\n",
    "  os.makedirs(new_folder)\n",
    "\n",
    "# Loop through the list of images\n",
    "for image_path in image_paths:\n",
    "  # Load the DICOM image using pydicom\n",
    "  ds = pydicom.dcmread(image_path)\n",
    "\n",
    "  # Convert the image data to a NumPy array\n",
    "  image_data = ds.pixel_array\n",
    "\n",
    "  # Make sure the data type of the image data is compatible\n",
    "  image_data = image_data.astype('uint8')  # or any other compatible data type\n",
    "\n",
    "  # Resize the image using OpenCV's resize function\n",
    "  resized_image = cv2.resize(image_data, (512, 512))\n",
    "\n",
    "  # Get the base file name\n",
    "  base_name = os.path.basename(image_path)\n",
    "\n",
    "  # Save the resized image as a PNG file\n",
    "  cv2.imwrite(os.path.join(new_folder, base_name + '.png'), resized_image)\n",
    "  #cv2.imwrite(os.path.join(new_folder, base_name), resized_image)\n"
   ]
  },
  {
   "cell_type": "code",
   "execution_count": null,
   "id": "fe5c62fd-a695-4bba-b348-8b99b588c613",
   "metadata": {},
   "outputs": [],
   "source": [
    "# import cv2\n",
    "# import pydicom\n",
    "# import os\n",
    "\n",
    "# # List of image file paths\n",
    "# image_paths = lstFilesDCM\n",
    "\n",
    "# # Create the new folder\n",
    "# new_folder = 'resized_images'\n",
    "# if not os.path.exists(new_folder):\n",
    "#   os.makedirs(new_folder)\n",
    "\n",
    "# # Loop through the list of images\n",
    "# for image_path in image_paths:\n",
    "#   # Load the DICOM image using pydicom\n",
    "#       ds = pydicom.dcmread(image_path)\n",
    "# # Convert the image data to a NumPy array\n",
    "#       image_data = ds.pixel_array\n",
    "#       #image_data = image_data.astype('uint8')  # or any other compatible data type\n",
    "\n",
    "#       # Resize the image using OpenCV's resize function\n",
    "#       resized_image = cv2.resize(image_data, (256, 256))\n",
    "\n",
    "#       # Encapsulate the resized image data\n",
    "#       encapsulated_image_data = pydicom.encaps.encapsulate(resized_image)\n",
    "\n",
    "#       # Update the DICOM image data with the encapsulated image data\n",
    "#       ds.PixelData = encapsulated_image_data\n",
    "\n",
    "#       # Update the image dimensions in the DICOM metadata\n",
    "#       ds.Rows, ds.Columns = 512, 512\n",
    "\n",
    "#       # Get the base file name\n",
    "#       base_name = os.path.basename(image_path)\n",
    "\n",
    "#       # Save the resized image to the new folder\n",
    "#       ds.save_as(os.path.join(new_folder, base_name))\n"
   ]
  },
  {
   "cell_type": "code",
   "execution_count": null,
   "id": "bc2494d0-ead9-4fd9-bac4-caf12ae6b9ea",
   "metadata": {
    "tags": []
   },
   "outputs": [],
   "source": [
    "# import cv2\n",
    "# import pydicom\n",
    "# import os\n",
    "\n",
    "# # List of image file paths\n",
    "# image_paths = lstFilesDCM\n",
    "\n",
    "# # Create the new folder\n",
    "# new_folder = 'resized_images'\n",
    "# if not os.path.exists(new_folder):\n",
    "#   os.makedirs(new_folder)\n",
    "\n",
    "# # Loop through the list of images\n",
    "# for image_path in image_paths:\n",
    "#   # Load the DICOM image using pydicom\n",
    "#     ds = pydicom.dcmread(image_path)\n",
    "\n",
    "#       # Convert the image data to a NumPy array\n",
    "#     image_data = ds.pixel_array\n",
    "#     from skimage.transform import resize\n",
    "#     IMG_PX_SIZE = 251\n",
    "\n",
    "#     resized_img = resize(image_data, (IMG_PX_SIZE, IMG_PX_SIZE), anti_aliasing=True)\n",
    "\n",
    "#       # # Resize the image using OpenCV's resize function\n",
    "#       # resized_image = cv2.resize(image_data, (256, 256))\n",
    "#       # # Get the base file name\n",
    "#     base_name = os.path.basename(image_path)\n",
    "#       # # Save the resized image to the new folder\n",
    "#     ds.PixelData = resized_img.tobytes()\n",
    "#     ds.save_as(os.path.join(new_folder, base_name))\n"
   ]
  },
  {
   "cell_type": "code",
   "execution_count": 49,
   "id": "a8b7ac6a-a8a6-4a60-a221-bc571b6e8064",
   "metadata": {},
   "outputs": [],
   "source": [
    "PathDicom = 'C:/Users/Casper/Desktop/Master1-Cours/rstudio and Python/Application pratique Defi 4/resized_images'\n",
    "\n",
    "lstFilesDCM_resized = []  # create an empty list\n",
    "for dirName, subdirList, fileList in os.walk(PathDicom):\n",
    "    for filename in fileList:\n",
    "        if \".dcm\" in filename.lower():  # check whether the file's DICOM\n",
    "            lstFilesDCM_resized.append(os.path.join(dirName,filename))"
   ]
  },
  {
   "cell_type": "code",
   "execution_count": 50,
   "id": "6f2af940-e581-40c3-8bf5-29ebe3c46a91",
   "metadata": {},
   "outputs": [],
   "source": [
    "# # Convert the DICOM image to a PIL image\n",
    "# pil_image = Image.fromarray(images.pixel_array)\n",
    "# # Resize the image to a smaller size\n",
    "# new_size = (512, 512)\n",
    "# resized_image = pil_image.resize(new_size)\n",
    "# resized_array = np.array(resized_image)"
   ]
  },
  {
   "cell_type": "code",
   "execution_count": 51,
   "id": "8756e5e4-d0fc-41cd-af9c-717617d6ba13",
   "metadata": {},
   "outputs": [
    {
     "ename": "AttributeError",
     "evalue": "'FileDataset' object has no attribute 'PixelData'",
     "output_type": "error",
     "traceback": [
      "\u001b[1;31m---------------------------------------------------------------------------\u001b[0m",
      "\u001b[1;31mAttributeError\u001b[0m                            Traceback (most recent call last)",
      "\u001b[1;32m~\\AppData\\Local\\Temp\\ipykernel_22208\\1859200094.py\u001b[0m in \u001b[0;36m<module>\u001b[1;34m\u001b[0m\n\u001b[0;32m      1\u001b[0m \u001b[0miii\u001b[0m \u001b[1;33m=\u001b[0m \u001b[0mlstFilesDCM_resized\u001b[0m\u001b[1;33m[\u001b[0m\u001b[1;36m0\u001b[0m\u001b[1;33m]\u001b[0m\u001b[1;33m\u001b[0m\u001b[1;33m\u001b[0m\u001b[0m\n\u001b[0;32m      2\u001b[0m \u001b[0mmages\u001b[0m \u001b[1;33m=\u001b[0m \u001b[0mpydicom\u001b[0m\u001b[1;33m.\u001b[0m\u001b[0mdcmread\u001b[0m\u001b[1;33m(\u001b[0m\u001b[0miii\u001b[0m\u001b[1;33m)\u001b[0m\u001b[1;33m\u001b[0m\u001b[1;33m\u001b[0m\u001b[0m\n\u001b[1;32m----> 3\u001b[1;33m \u001b[0mmages\u001b[0m \u001b[1;33m=\u001b[0m \u001b[0mmages\u001b[0m\u001b[1;33m.\u001b[0m\u001b[0mpixel_array\u001b[0m\u001b[1;33m\u001b[0m\u001b[1;33m\u001b[0m\u001b[0m\n\u001b[0m\u001b[0;32m      4\u001b[0m \u001b[0mmages\u001b[0m \u001b[1;33m=\u001b[0m \u001b[0mnp\u001b[0m\u001b[1;33m.\u001b[0m\u001b[0marray\u001b[0m\u001b[1;33m(\u001b[0m\u001b[0mmages\u001b[0m\u001b[1;33m)\u001b[0m\u001b[1;33m\u001b[0m\u001b[1;33m\u001b[0m\u001b[0m\n\u001b[0;32m      5\u001b[0m \u001b[0mmages\u001b[0m\u001b[1;33m.\u001b[0m\u001b[0mshape\u001b[0m\u001b[1;33m\u001b[0m\u001b[1;33m\u001b[0m\u001b[0m\n",
      "\u001b[1;32m~\\anaconda3\\lib\\site-packages\\pydicom\\dataset.py\u001b[0m in \u001b[0;36m__getattr__\u001b[1;34m(self, name)\u001b[0m\n\u001b[0;32m    832\u001b[0m             \u001b[1;32mreturn\u001b[0m \u001b[1;33m{\u001b[0m\u001b[1;33m}\u001b[0m\u001b[1;33m\u001b[0m\u001b[1;33m\u001b[0m\u001b[0m\n\u001b[0;32m    833\u001b[0m         \u001b[1;31m# Try the base class attribute getter (fix for issue 332)\u001b[0m\u001b[1;33m\u001b[0m\u001b[1;33m\u001b[0m\u001b[0m\n\u001b[1;32m--> 834\u001b[1;33m         \u001b[1;32mreturn\u001b[0m \u001b[0mobject\u001b[0m\u001b[1;33m.\u001b[0m\u001b[0m__getattribute__\u001b[0m\u001b[1;33m(\u001b[0m\u001b[0mself\u001b[0m\u001b[1;33m,\u001b[0m \u001b[0mname\u001b[0m\u001b[1;33m)\u001b[0m\u001b[1;33m\u001b[0m\u001b[1;33m\u001b[0m\u001b[0m\n\u001b[0m\u001b[0;32m    835\u001b[0m \u001b[1;33m\u001b[0m\u001b[0m\n\u001b[0;32m    836\u001b[0m     \u001b[1;33m@\u001b[0m\u001b[0mproperty\u001b[0m\u001b[1;33m\u001b[0m\u001b[1;33m\u001b[0m\u001b[0m\n",
      "\u001b[1;32m~\\anaconda3\\lib\\site-packages\\pydicom\\dataset.py\u001b[0m in \u001b[0;36mpixel_array\u001b[1;34m(self)\u001b[0m\n\u001b[0;32m   1885\u001b[0m             \u001b[1;33m:\u001b[0m\u001b[1;32mclass\u001b[0m\u001b[1;33m:\u001b[0m\u001b[0;31m`\u001b[0m\u001b[0mnumpy\u001b[0m\u001b[1;33m.\u001b[0m\u001b[0mndarray\u001b[0m\u001b[0;31m`\u001b[0m\u001b[1;33m.\u001b[0m\u001b[1;33m\u001b[0m\u001b[1;33m\u001b[0m\u001b[0m\n\u001b[0;32m   1886\u001b[0m         \"\"\"\n\u001b[1;32m-> 1887\u001b[1;33m         \u001b[0mself\u001b[0m\u001b[1;33m.\u001b[0m\u001b[0mconvert_pixel_data\u001b[0m\u001b[1;33m(\u001b[0m\u001b[1;33m)\u001b[0m\u001b[1;33m\u001b[0m\u001b[1;33m\u001b[0m\u001b[0m\n\u001b[0m\u001b[0;32m   1888\u001b[0m         \u001b[1;32mreturn\u001b[0m \u001b[0mcast\u001b[0m\u001b[1;33m(\u001b[0m\u001b[1;34m\"numpy.ndarray\"\u001b[0m\u001b[1;33m,\u001b[0m \u001b[0mself\u001b[0m\u001b[1;33m.\u001b[0m\u001b[0m_pixel_array\u001b[0m\u001b[1;33m)\u001b[0m\u001b[1;33m\u001b[0m\u001b[1;33m\u001b[0m\u001b[0m\n\u001b[0;32m   1889\u001b[0m \u001b[1;33m\u001b[0m\u001b[0m\n",
      "\u001b[1;32m~\\anaconda3\\lib\\site-packages\\pydicom\\dataset.py\u001b[0m in \u001b[0;36mconvert_pixel_data\u001b[1;34m(self, handler_name)\u001b[0m\n\u001b[0;32m   1442\u001b[0m             \u001b[0mself\u001b[0m\u001b[1;33m.\u001b[0m\u001b[0m_convert_pixel_data_using_handler\u001b[0m\u001b[1;33m(\u001b[0m\u001b[0mhandler_name\u001b[0m\u001b[1;33m)\u001b[0m\u001b[1;33m\u001b[0m\u001b[1;33m\u001b[0m\u001b[0m\n\u001b[0;32m   1443\u001b[0m         \u001b[1;32melse\u001b[0m\u001b[1;33m:\u001b[0m\u001b[1;33m\u001b[0m\u001b[1;33m\u001b[0m\u001b[0m\n\u001b[1;32m-> 1444\u001b[1;33m             \u001b[0mself\u001b[0m\u001b[1;33m.\u001b[0m\u001b[0m_convert_pixel_data_without_handler\u001b[0m\u001b[1;33m(\u001b[0m\u001b[1;33m)\u001b[0m\u001b[1;33m\u001b[0m\u001b[1;33m\u001b[0m\u001b[0m\n\u001b[0m\u001b[0;32m   1445\u001b[0m \u001b[1;33m\u001b[0m\u001b[0m\n\u001b[0;32m   1446\u001b[0m     \u001b[1;32mdef\u001b[0m \u001b[0m_convert_pixel_data_using_handler\u001b[0m\u001b[1;33m(\u001b[0m\u001b[0mself\u001b[0m\u001b[1;33m,\u001b[0m \u001b[0mname\u001b[0m\u001b[1;33m:\u001b[0m \u001b[0mstr\u001b[0m\u001b[1;33m)\u001b[0m \u001b[1;33m->\u001b[0m \u001b[1;32mNone\u001b[0m\u001b[1;33m:\u001b[0m\u001b[1;33m\u001b[0m\u001b[1;33m\u001b[0m\u001b[0m\n",
      "\u001b[1;32m~\\anaconda3\\lib\\site-packages\\pydicom\\dataset.py\u001b[0m in \u001b[0;36m_convert_pixel_data_without_handler\u001b[1;34m(self)\u001b[0m\n\u001b[0;32m   1554\u001b[0m             \u001b[1;33m.\u001b[0m\u001b[0mformat\u001b[0m\u001b[1;33m(\u001b[0m\u001b[1;34m\", \"\u001b[0m\u001b[1;33m.\u001b[0m\u001b[0mjoin\u001b[0m\u001b[1;33m(\u001b[0m\u001b[1;33m[\u001b[0m\u001b[0mstr\u001b[0m\u001b[1;33m(\u001b[0m\u001b[0mhh\u001b[0m\u001b[1;33m)\u001b[0m \u001b[1;32mfor\u001b[0m \u001b[0mhh\u001b[0m \u001b[1;32min\u001b[0m \u001b[0mavailable_handlers\u001b[0m\u001b[1;33m]\u001b[0m\u001b[1;33m)\u001b[0m\u001b[1;33m)\u001b[0m\u001b[1;33m\u001b[0m\u001b[1;33m\u001b[0m\u001b[0m\n\u001b[0;32m   1555\u001b[0m         )\n\u001b[1;32m-> 1556\u001b[1;33m         \u001b[1;32mraise\u001b[0m \u001b[0mlast_exception\u001b[0m  \u001b[1;31m# type: ignore[misc]\u001b[0m\u001b[1;33m\u001b[0m\u001b[1;33m\u001b[0m\u001b[0m\n\u001b[0m\u001b[0;32m   1557\u001b[0m \u001b[1;33m\u001b[0m\u001b[0m\n\u001b[0;32m   1558\u001b[0m     \u001b[1;32mdef\u001b[0m \u001b[0m_do_pixel_data_conversion\u001b[0m\u001b[1;33m(\u001b[0m\u001b[0mself\u001b[0m\u001b[1;33m,\u001b[0m \u001b[0mhandler\u001b[0m\u001b[1;33m:\u001b[0m \u001b[0mAny\u001b[0m\u001b[1;33m)\u001b[0m \u001b[1;33m->\u001b[0m \u001b[1;32mNone\u001b[0m\u001b[1;33m:\u001b[0m\u001b[1;33m\u001b[0m\u001b[1;33m\u001b[0m\u001b[0m\n",
      "\u001b[1;32m~\\anaconda3\\lib\\site-packages\\pydicom\\dataset.py\u001b[0m in \u001b[0;36m_convert_pixel_data_without_handler\u001b[1;34m(self)\u001b[0m\n\u001b[0;32m   1534\u001b[0m         \u001b[1;32mfor\u001b[0m \u001b[0mhandler\u001b[0m \u001b[1;32min\u001b[0m \u001b[0mavailable_handlers\u001b[0m\u001b[1;33m:\u001b[0m\u001b[1;33m\u001b[0m\u001b[1;33m\u001b[0m\u001b[0m\n\u001b[0;32m   1535\u001b[0m             \u001b[1;32mtry\u001b[0m\u001b[1;33m:\u001b[0m\u001b[1;33m\u001b[0m\u001b[1;33m\u001b[0m\u001b[0m\n\u001b[1;32m-> 1536\u001b[1;33m                 \u001b[0mself\u001b[0m\u001b[1;33m.\u001b[0m\u001b[0m_do_pixel_data_conversion\u001b[0m\u001b[1;33m(\u001b[0m\u001b[0mhandler\u001b[0m\u001b[1;33m)\u001b[0m\u001b[1;33m\u001b[0m\u001b[1;33m\u001b[0m\u001b[0m\n\u001b[0m\u001b[0;32m   1537\u001b[0m                 \u001b[1;32mreturn\u001b[0m\u001b[1;33m\u001b[0m\u001b[1;33m\u001b[0m\u001b[0m\n\u001b[0;32m   1538\u001b[0m             \u001b[1;32mexcept\u001b[0m \u001b[0mException\u001b[0m \u001b[1;32mas\u001b[0m \u001b[0mexc\u001b[0m\u001b[1;33m:\u001b[0m\u001b[1;33m\u001b[0m\u001b[1;33m\u001b[0m\u001b[0m\n",
      "\u001b[1;32m~\\anaconda3\\lib\\site-packages\\pydicom\\dataset.py\u001b[0m in \u001b[0;36m_do_pixel_data_conversion\u001b[1;34m(self, handler)\u001b[0m\n\u001b[0;32m   1561\u001b[0m         \u001b[1;31m# Use the handler to get a 1D numpy array of the pixel data\u001b[0m\u001b[1;33m\u001b[0m\u001b[1;33m\u001b[0m\u001b[0m\n\u001b[0;32m   1562\u001b[0m         \u001b[1;31m# Will raise an exception if no pixel data element\u001b[0m\u001b[1;33m\u001b[0m\u001b[1;33m\u001b[0m\u001b[0m\n\u001b[1;32m-> 1563\u001b[1;33m         \u001b[0marr\u001b[0m \u001b[1;33m=\u001b[0m \u001b[0mhandler\u001b[0m\u001b[1;33m.\u001b[0m\u001b[0mget_pixeldata\u001b[0m\u001b[1;33m(\u001b[0m\u001b[0mself\u001b[0m\u001b[1;33m)\u001b[0m\u001b[1;33m\u001b[0m\u001b[1;33m\u001b[0m\u001b[0m\n\u001b[0m\u001b[0;32m   1564\u001b[0m         \u001b[0mself\u001b[0m\u001b[1;33m.\u001b[0m\u001b[0m_pixel_array\u001b[0m \u001b[1;33m=\u001b[0m \u001b[0mreshape_pixel_array\u001b[0m\u001b[1;33m(\u001b[0m\u001b[0mself\u001b[0m\u001b[1;33m,\u001b[0m \u001b[0marr\u001b[0m\u001b[1;33m)\u001b[0m\u001b[1;33m\u001b[0m\u001b[1;33m\u001b[0m\u001b[0m\n\u001b[0;32m   1565\u001b[0m \u001b[1;33m\u001b[0m\u001b[0m\n",
      "\u001b[1;32m~\\anaconda3\\lib\\site-packages\\pydicom\\pixel_data_handlers\\pillow_handler.py\u001b[0m in \u001b[0;36mget_pixeldata\u001b[1;34m(ds)\u001b[0m\n\u001b[0;32m    213\u001b[0m     \u001b[1;32melse\u001b[0m\u001b[1;33m:\u001b[0m\u001b[1;33m\u001b[0m\u001b[1;33m\u001b[0m\u001b[0m\n\u001b[0;32m    214\u001b[0m         \u001b[1;31m# single compressed frame\u001b[0m\u001b[1;33m\u001b[0m\u001b[1;33m\u001b[0m\u001b[0m\n\u001b[1;32m--> 215\u001b[1;33m         \u001b[0mpixel_data\u001b[0m \u001b[1;33m=\u001b[0m \u001b[0mdefragment_data\u001b[0m\u001b[1;33m(\u001b[0m\u001b[0mds\u001b[0m\u001b[1;33m.\u001b[0m\u001b[0mPixelData\u001b[0m\u001b[1;33m)\u001b[0m\u001b[1;33m\u001b[0m\u001b[1;33m\u001b[0m\u001b[0m\n\u001b[0m\u001b[0;32m    216\u001b[0m         im = _decompress_single_frame(\n\u001b[0;32m    217\u001b[0m             \u001b[0mpixel_data\u001b[0m\u001b[1;33m,\u001b[0m\u001b[1;33m\u001b[0m\u001b[1;33m\u001b[0m\u001b[0m\n",
      "\u001b[1;32m~\\anaconda3\\lib\\site-packages\\pydicom\\dataset.py\u001b[0m in \u001b[0;36m__getattr__\u001b[1;34m(self, name)\u001b[0m\n\u001b[0;32m    832\u001b[0m             \u001b[1;32mreturn\u001b[0m \u001b[1;33m{\u001b[0m\u001b[1;33m}\u001b[0m\u001b[1;33m\u001b[0m\u001b[1;33m\u001b[0m\u001b[0m\n\u001b[0;32m    833\u001b[0m         \u001b[1;31m# Try the base class attribute getter (fix for issue 332)\u001b[0m\u001b[1;33m\u001b[0m\u001b[1;33m\u001b[0m\u001b[0m\n\u001b[1;32m--> 834\u001b[1;33m         \u001b[1;32mreturn\u001b[0m \u001b[0mobject\u001b[0m\u001b[1;33m.\u001b[0m\u001b[0m__getattribute__\u001b[0m\u001b[1;33m(\u001b[0m\u001b[0mself\u001b[0m\u001b[1;33m,\u001b[0m \u001b[0mname\u001b[0m\u001b[1;33m)\u001b[0m\u001b[1;33m\u001b[0m\u001b[1;33m\u001b[0m\u001b[0m\n\u001b[0m\u001b[0;32m    835\u001b[0m \u001b[1;33m\u001b[0m\u001b[0m\n\u001b[0;32m    836\u001b[0m     \u001b[1;33m@\u001b[0m\u001b[0mproperty\u001b[0m\u001b[1;33m\u001b[0m\u001b[1;33m\u001b[0m\u001b[0m\n",
      "\u001b[1;31mAttributeError\u001b[0m: 'FileDataset' object has no attribute 'PixelData'"
     ]
    }
   ],
   "source": [
    "iii = lstFilesDCM_resized[0]\n",
    "mages = pydicom.dcmread(iii)\n",
    "mages = mages.pixel_array\n",
    "mages = np.array(mages)\n",
    "mages.shape"
   ]
  },
  {
   "cell_type": "code",
   "execution_count": 52,
   "id": "d3bf6511-81a4-42f3-8792-b79b9ed7e8b1",
   "metadata": {},
   "outputs": [
    {
     "ename": "InvalidDicomError",
     "evalue": "File is missing DICOM File Meta Information header or the 'DICM' prefix is missing from the header. Use force=True to force reading.",
     "output_type": "error",
     "traceback": [
      "\u001b[1;31m---------------------------------------------------------------------------\u001b[0m",
      "\u001b[1;31mInvalidDicomError\u001b[0m                         Traceback (most recent call last)",
      "\u001b[1;32m~\\AppData\\Local\\Temp\\ipykernel_22208\\372552064.py\u001b[0m in \u001b[0;36m<module>\u001b[1;34m\u001b[0m\n\u001b[0;32m      1\u001b[0m \u001b[0mdicom_images\u001b[0m \u001b[1;33m=\u001b[0m \u001b[1;33m[\u001b[0m\u001b[1;33m]\u001b[0m\u001b[1;33m\u001b[0m\u001b[1;33m\u001b[0m\u001b[0m\n\u001b[0;32m      2\u001b[0m \u001b[1;32mfor\u001b[0m \u001b[0mdicom_file\u001b[0m \u001b[1;32min\u001b[0m \u001b[0mlstFilesDCM_resized\u001b[0m\u001b[1;33m:\u001b[0m\u001b[1;33m\u001b[0m\u001b[1;33m\u001b[0m\u001b[0m\n\u001b[1;32m----> 3\u001b[1;33m     \u001b[0mimages\u001b[0m \u001b[1;33m=\u001b[0m \u001b[0mpydicom\u001b[0m\u001b[1;33m.\u001b[0m\u001b[0mdcmread\u001b[0m\u001b[1;33m(\u001b[0m\u001b[0mdicom_file\u001b[0m\u001b[1;33m)\u001b[0m\u001b[1;33m\u001b[0m\u001b[1;33m\u001b[0m\u001b[0m\n\u001b[0m\u001b[0;32m      4\u001b[0m     \u001b[0mdicom_images\u001b[0m\u001b[1;33m.\u001b[0m\u001b[0mappend\u001b[0m\u001b[1;33m(\u001b[0m\u001b[0mimages\u001b[0m\u001b[1;33m)\u001b[0m\u001b[1;33m\u001b[0m\u001b[1;33m\u001b[0m\u001b[0m\n\u001b[0;32m      5\u001b[0m \u001b[1;33m\u001b[0m\u001b[0m\n",
      "\u001b[1;32m~\\anaconda3\\lib\\site-packages\\pydicom\\filereader.py\u001b[0m in \u001b[0;36mdcmread\u001b[1;34m(fp, defer_size, stop_before_pixels, force, specific_tags)\u001b[0m\n\u001b[0;32m   1019\u001b[0m         \u001b[0mstop_when\u001b[0m \u001b[1;33m=\u001b[0m \u001b[0m_at_pixel_data\u001b[0m\u001b[1;33m\u001b[0m\u001b[1;33m\u001b[0m\u001b[0m\n\u001b[0;32m   1020\u001b[0m     \u001b[1;32mtry\u001b[0m\u001b[1;33m:\u001b[0m\u001b[1;33m\u001b[0m\u001b[1;33m\u001b[0m\u001b[0m\n\u001b[1;32m-> 1021\u001b[1;33m         dataset = read_partial(\n\u001b[0m\u001b[0;32m   1022\u001b[0m             \u001b[0mfp\u001b[0m\u001b[1;33m,\u001b[0m\u001b[1;33m\u001b[0m\u001b[1;33m\u001b[0m\u001b[0m\n\u001b[0;32m   1023\u001b[0m             \u001b[0mstop_when\u001b[0m\u001b[1;33m,\u001b[0m\u001b[1;33m\u001b[0m\u001b[1;33m\u001b[0m\u001b[0m\n",
      "\u001b[1;32m~\\anaconda3\\lib\\site-packages\\pydicom\\filereader.py\u001b[0m in \u001b[0;36mread_partial\u001b[1;34m(fileobj, stop_when, defer_size, force, specific_tags)\u001b[0m\n\u001b[0;32m    776\u001b[0m \u001b[1;33m\u001b[0m\u001b[0m\n\u001b[0;32m    777\u001b[0m     \u001b[1;31m# Read preamble (if present)\u001b[0m\u001b[1;33m\u001b[0m\u001b[1;33m\u001b[0m\u001b[0m\n\u001b[1;32m--> 778\u001b[1;33m     \u001b[0mpreamble\u001b[0m \u001b[1;33m=\u001b[0m \u001b[0mread_preamble\u001b[0m\u001b[1;33m(\u001b[0m\u001b[0mfileobj\u001b[0m\u001b[1;33m,\u001b[0m \u001b[0mforce\u001b[0m\u001b[1;33m)\u001b[0m\u001b[1;33m\u001b[0m\u001b[1;33m\u001b[0m\u001b[0m\n\u001b[0m\u001b[0;32m    779\u001b[0m     \u001b[1;31m# Read any File Meta Information group (0002,eeee) elements (if present)\u001b[0m\u001b[1;33m\u001b[0m\u001b[1;33m\u001b[0m\u001b[0m\n\u001b[0;32m    780\u001b[0m     \u001b[0mfile_meta\u001b[0m \u001b[1;33m=\u001b[0m \u001b[0m_read_file_meta_info\u001b[0m\u001b[1;33m(\u001b[0m\u001b[0mfileobj\u001b[0m\u001b[1;33m)\u001b[0m\u001b[1;33m\u001b[0m\u001b[1;33m\u001b[0m\u001b[0m\n",
      "\u001b[1;32m~\\anaconda3\\lib\\site-packages\\pydicom\\filereader.py\u001b[0m in \u001b[0;36mread_preamble\u001b[1;34m(fp, force)\u001b[0m\n\u001b[0;32m    721\u001b[0m \u001b[1;33m\u001b[0m\u001b[0m\n\u001b[0;32m    722\u001b[0m     \u001b[1;32mif\u001b[0m \u001b[0mmagic\u001b[0m \u001b[1;33m!=\u001b[0m \u001b[1;34mb\"DICM\"\u001b[0m \u001b[1;32mand\u001b[0m \u001b[1;32mnot\u001b[0m \u001b[0mforce\u001b[0m\u001b[1;33m:\u001b[0m\u001b[1;33m\u001b[0m\u001b[1;33m\u001b[0m\u001b[0m\n\u001b[1;32m--> 723\u001b[1;33m         raise InvalidDicomError(\n\u001b[0m\u001b[0;32m    724\u001b[0m             \u001b[1;34m\"File is missing DICOM File Meta Information header or the 'DICM' \"\u001b[0m\u001b[1;33m\u001b[0m\u001b[1;33m\u001b[0m\u001b[0m\n\u001b[0;32m    725\u001b[0m             \u001b[1;34m\"prefix is missing from the header. Use force=True to force \"\u001b[0m\u001b[1;33m\u001b[0m\u001b[1;33m\u001b[0m\u001b[0m\n",
      "\u001b[1;31mInvalidDicomError\u001b[0m: File is missing DICOM File Meta Information header or the 'DICM' prefix is missing from the header. Use force=True to force reading."
     ]
    }
   ],
   "source": [
    "dicom_images = []\n",
    "for dicom_file in lstFilesDCM_resized:\n",
    "    images = pydicom.dcmread(dicom_file)\n",
    "    dicom_images.append(images)\n",
    "    \n",
    "\n",
    "# Extract the pixel data from the DICOM images and convert it to a NumPy array\n",
    "image_data = [image.pixel_array for image in dicom_images]\n",
    "image_data = np.array(image_data)\n",
    "\n",
    "# Split the data into a training set and a test set\n",
    "X_train, X_test, y_train, y_test = train_test_split(image_data, df_f[\"EncodedPixels\"], test_size=0.2)\n"
   ]
  },
  {
   "cell_type": "code",
   "execution_count": 148,
   "id": "500b3665-f223-4752-90b5-a5232e30638f",
   "metadata": {},
   "outputs": [
    {
     "name": "stdout",
     "output_type": "stream",
     "text": [
      "(7769, 1024, 1024)\n",
      "(1943, 1024, 1024)\n"
     ]
    }
   ],
   "source": [
    "print(X_train.shape)\n",
    "print(X_test.shape)"
   ]
  },
  {
   "cell_type": "code",
   "execution_count": 78,
   "id": "560e92b9-1b05-4485-9b98-ee33c40a4817",
   "metadata": {},
   "outputs": [
    {
     "ename": "MemoryError",
     "evalue": "Unable to allocate 30.3 GiB for an array with shape (7769, 1048576) and data type float32",
     "output_type": "error",
     "traceback": [
      "\u001b[1;31m---------------------------------------------------------------------------\u001b[0m",
      "\u001b[1;31mMemoryError\u001b[0m                               Traceback (most recent call last)",
      "\u001b[1;32m~\\AppData\\Local\\Temp\\ipykernel_10040\\34966943.py\u001b[0m in \u001b[0;36m<module>\u001b[1;34m\u001b[0m\n\u001b[0;32m      1\u001b[0m \u001b[0mX_train\u001b[0m \u001b[1;33m=\u001b[0m \u001b[0mX_train\u001b[0m\u001b[1;33m.\u001b[0m\u001b[0mreshape\u001b[0m\u001b[1;33m(\u001b[0m\u001b[1;36m7769\u001b[0m\u001b[1;33m,\u001b[0m \u001b[1;36m1024\u001b[0m\u001b[1;33m*\u001b[0m\u001b[1;36m1024\u001b[0m\u001b[1;33m)\u001b[0m\u001b[1;33m\u001b[0m\u001b[1;33m\u001b[0m\u001b[0m\n\u001b[0;32m      2\u001b[0m \u001b[0mX_test\u001b[0m \u001b[1;33m=\u001b[0m \u001b[0mX_test\u001b[0m\u001b[1;33m.\u001b[0m\u001b[0mreshape\u001b[0m\u001b[1;33m(\u001b[0m\u001b[1;36m1943\u001b[0m\u001b[1;33m,\u001b[0m \u001b[1;36m1024\u001b[0m\u001b[1;33m*\u001b[0m\u001b[1;36m1024\u001b[0m\u001b[1;33m)\u001b[0m\u001b[1;33m\u001b[0m\u001b[1;33m\u001b[0m\u001b[0m\n\u001b[1;32m----> 3\u001b[1;33m \u001b[0mX_train\u001b[0m \u001b[1;33m=\u001b[0m \u001b[0mX_train\u001b[0m\u001b[1;33m.\u001b[0m\u001b[0mastype\u001b[0m\u001b[1;33m(\u001b[0m\u001b[1;34m'float32'\u001b[0m\u001b[1;33m)\u001b[0m\u001b[1;33m\u001b[0m\u001b[1;33m\u001b[0m\u001b[0m\n\u001b[0m\u001b[0;32m      4\u001b[0m \u001b[0mX_test\u001b[0m \u001b[1;33m=\u001b[0m \u001b[0mX_test\u001b[0m\u001b[1;33m.\u001b[0m\u001b[0mastype\u001b[0m\u001b[1;33m(\u001b[0m\u001b[1;34m'float32'\u001b[0m\u001b[1;33m)\u001b[0m\u001b[1;33m\u001b[0m\u001b[1;33m\u001b[0m\u001b[0m\n\u001b[0;32m      5\u001b[0m \u001b[0mX_train\u001b[0m \u001b[1;33m/=\u001b[0m \u001b[1;36m1024\u001b[0m\u001b[1;33m\u001b[0m\u001b[1;33m\u001b[0m\u001b[0m\n",
      "\u001b[1;31mMemoryError\u001b[0m: Unable to allocate 30.3 GiB for an array with shape (7769, 1048576) and data type float32"
     ]
    }
   ],
   "source": [
    "X_train = X_train.reshape(7769, 1024*1024)\n",
    "X_test = X_test.reshape(1943, 1024*1024)\n",
    "X_train = X_train.astype('float32')\n",
    "X_test = X_test.astype('float32')\n",
    "X_train /= 1024\n",
    "X_test /= 1024"
   ]
  },
  {
   "cell_type": "code",
   "execution_count": 48,
   "id": "b8b01c35-515c-4c36-bf04-75139f53b07d",
   "metadata": {},
   "outputs": [],
   "source": [
    "#X_traing_in = []\n",
    "# for i in imgL:\n",
    "#     x = imgL.pixel_array\n",
    "#     img_in.append(x)\n",
    "# img_in = np.array(img_in)       "
   ]
  },
  {
   "cell_type": "markdown",
   "id": "0a39d151-111a-4cef-8c02-e747cf53a9b7",
   "metadata": {},
   "source": [
    "#### Model "
   ]
  },
  {
   "cell_type": "code",
   "execution_count": 79,
   "id": "71beea30-dc88-4722-a06f-a3dcd28e3ce4",
   "metadata": {},
   "outputs": [
    {
     "name": "stdout",
     "output_type": "stream",
     "text": [
      "Model: \"sequential_3\"\n",
      "_________________________________________________________________\n",
      " Layer (type)                Output Shape              Param #   \n",
      "=================================================================\n",
      " dense_9 (Dense)             (None, 1024, 1024)        1049600   \n",
      "                                                                 \n",
      " activation_9 (Activation)   (None, 1024, 1024)        0         \n",
      "                                                                 \n",
      " dropout_6 (Dropout)         (None, 1024, 1024)        0         \n",
      "                                                                 \n",
      " dense_10 (Dense)            (None, 1024, 10)          10250     \n",
      "                                                                 \n",
      " activation_10 (Activation)  (None, 1024, 10)          0         \n",
      "                                                                 \n",
      " dropout_7 (Dropout)         (None, 1024, 10)          0         \n",
      "                                                                 \n",
      " dense_11 (Dense)            (None, 1024, 1)           11        \n",
      "                                                                 \n",
      " activation_11 (Activation)  (None, 1024, 1)           0         \n",
      "                                                                 \n",
      "=================================================================\n",
      "Total params: 1,059,861\n",
      "Trainable params: 1,059,861\n",
      "Non-trainable params: 0\n",
      "_________________________________________________________________\n"
     ]
    }
   ],
   "source": [
    "dim = ()\n",
    "model = Sequential()\n",
    "model.add(Dense(1024, input_shape=(1024,1024)))\n",
    "model.add(Activation('relu')) # An \"activation\" is just a non-linear function applied to the output\n",
    "                              # of the layer above. Here, with a \"rectified linear unit\",\n",
    "                              # we clamp all values below 0 to 0.\n",
    "                           \n",
    "model.add(Dropout(0.2))   # Dropout helps protect the model from memorizing or \"overfitting\" the training data\n",
    "model.add(Dense(10))\n",
    "model.add(Activation('relu'))\n",
    "model.add(Dropout(0.2))\n",
    "model.add(Dense(1))\n",
    "model.add(Activation('sigmoid')) # This special \"softmax\" activation among other things,\n",
    "                                 # ensures the output is a valid probaility distribution, that is\n",
    "                                 # that its values are all non-negative and sum to 1.\n",
    "\n",
    "model.summary()\n",
    "\n",
    "\n",
    "\n",
    "model.compile(loss='binary_crossentropy', optimizer='adam')"
   ]
  },
  {
   "cell_type": "code",
   "execution_count": 80,
   "id": "47701161-f712-4e71-ba27-7451b34a05f8",
   "metadata": {},
   "outputs": [
    {
     "name": "stdout",
     "output_type": "stream",
     "text": [
      "61/61 [==============================] - 429s 7s/step - loss: nan - val_loss: nan\n"
     ]
    },
    {
     "data": {
      "text/plain": [
       "<keras.callbacks.History at 0x2ca1ae26a60>"
      ]
     },
     "execution_count": 80,
     "metadata": {},
     "output_type": "execute_result"
    }
   ],
   "source": [
    "nb_epochs = 1\n",
    "#TODO ajouter un vrai split sur train\n",
    "model.fit(X_train, y_train,\n",
    "          batch_size=128, epochs=nb_epochs,\n",
    "          validation_data=(X_test, y_test))"
   ]
  },
  {
   "cell_type": "code",
   "execution_count": 81,
   "id": "9278f2a2-d85a-43cf-939e-d954fd73bb84",
   "metadata": {},
   "outputs": [
    {
     "name": "stdout",
     "output_type": "stream",
     "text": [
      "61/61 [==============================] - 36s 576ms/step\n"
     ]
    }
   ],
   "source": [
    "pred = model.predict(X_test)"
   ]
  },
  {
   "cell_type": "code",
   "execution_count": 82,
   "id": "3d8f02c2-6b8d-4ede-9ce6-cabf098600dc",
   "metadata": {},
   "outputs": [],
   "source": [
    "from sklearn.metrics import classification_report,confusion_matrix"
   ]
  },
  {
   "cell_type": "code",
   "execution_count": null,
   "id": "9177b32d-2545-4293-ba6f-17b2d84d5f7a",
   "metadata": {},
   "outputs": [],
   "source": []
  },
  {
   "cell_type": "code",
   "execution_count": 83,
   "id": "368a1661-8f72-40b1-b6dd-a032ccf4608d",
   "metadata": {},
   "outputs": [
    {
     "ename": "ValueError",
     "evalue": "Input contains NaN, infinity or a value too large for dtype('float64').",
     "output_type": "error",
     "traceback": [
      "\u001b[1;31m---------------------------------------------------------------------------\u001b[0m",
      "\u001b[1;31mValueError\u001b[0m                                Traceback (most recent call last)",
      "\u001b[1;32m~\\AppData\\Local\\Temp\\ipykernel_7144\\2997047123.py\u001b[0m in \u001b[0;36m<module>\u001b[1;34m\u001b[0m\n\u001b[1;32m----> 1\u001b[1;33m \u001b[0mprint\u001b[0m\u001b[1;33m(\u001b[0m\u001b[0mclassification_report\u001b[0m\u001b[1;33m(\u001b[0m\u001b[0my_test\u001b[0m\u001b[1;33m,\u001b[0m\u001b[0mpred\u001b[0m\u001b[1;33m)\u001b[0m\u001b[1;33m)\u001b[0m\u001b[1;33m\u001b[0m\u001b[1;33m\u001b[0m\u001b[0m\n\u001b[0m\u001b[0;32m      2\u001b[0m \u001b[0mprint\u001b[0m\u001b[1;33m(\u001b[0m\u001b[0mconfusion_matrix\u001b[0m\u001b[1;33m(\u001b[0m\u001b[0my_test\u001b[0m\u001b[1;33m,\u001b[0m\u001b[0mpred\u001b[0m\u001b[1;33m)\u001b[0m\u001b[1;33m)\u001b[0m\u001b[1;33m\u001b[0m\u001b[1;33m\u001b[0m\u001b[0m\n",
      "\u001b[1;32m~\\anaconda3\\lib\\site-packages\\sklearn\\metrics\\_classification.py\u001b[0m in \u001b[0;36mclassification_report\u001b[1;34m(y_true, y_pred, labels, target_names, sample_weight, digits, output_dict, zero_division)\u001b[0m\n\u001b[0;32m   2108\u001b[0m     \"\"\"\n\u001b[0;32m   2109\u001b[0m \u001b[1;33m\u001b[0m\u001b[0m\n\u001b[1;32m-> 2110\u001b[1;33m     \u001b[0my_type\u001b[0m\u001b[1;33m,\u001b[0m \u001b[0my_true\u001b[0m\u001b[1;33m,\u001b[0m \u001b[0my_pred\u001b[0m \u001b[1;33m=\u001b[0m \u001b[0m_check_targets\u001b[0m\u001b[1;33m(\u001b[0m\u001b[0my_true\u001b[0m\u001b[1;33m,\u001b[0m \u001b[0my_pred\u001b[0m\u001b[1;33m)\u001b[0m\u001b[1;33m\u001b[0m\u001b[1;33m\u001b[0m\u001b[0m\n\u001b[0m\u001b[0;32m   2111\u001b[0m \u001b[1;33m\u001b[0m\u001b[0m\n\u001b[0;32m   2112\u001b[0m     \u001b[1;32mif\u001b[0m \u001b[0mlabels\u001b[0m \u001b[1;32mis\u001b[0m \u001b[1;32mNone\u001b[0m\u001b[1;33m:\u001b[0m\u001b[1;33m\u001b[0m\u001b[1;33m\u001b[0m\u001b[0m\n",
      "\u001b[1;32m~\\anaconda3\\lib\\site-packages\\sklearn\\metrics\\_classification.py\u001b[0m in \u001b[0;36m_check_targets\u001b[1;34m(y_true, y_pred)\u001b[0m\n\u001b[0;32m     83\u001b[0m     \"\"\"\n\u001b[0;32m     84\u001b[0m     \u001b[0mcheck_consistent_length\u001b[0m\u001b[1;33m(\u001b[0m\u001b[0my_true\u001b[0m\u001b[1;33m,\u001b[0m \u001b[0my_pred\u001b[0m\u001b[1;33m)\u001b[0m\u001b[1;33m\u001b[0m\u001b[1;33m\u001b[0m\u001b[0m\n\u001b[1;32m---> 85\u001b[1;33m     \u001b[0mtype_true\u001b[0m \u001b[1;33m=\u001b[0m \u001b[0mtype_of_target\u001b[0m\u001b[1;33m(\u001b[0m\u001b[0my_true\u001b[0m\u001b[1;33m)\u001b[0m\u001b[1;33m\u001b[0m\u001b[1;33m\u001b[0m\u001b[0m\n\u001b[0m\u001b[0;32m     86\u001b[0m     \u001b[0mtype_pred\u001b[0m \u001b[1;33m=\u001b[0m \u001b[0mtype_of_target\u001b[0m\u001b[1;33m(\u001b[0m\u001b[0my_pred\u001b[0m\u001b[1;33m)\u001b[0m\u001b[1;33m\u001b[0m\u001b[1;33m\u001b[0m\u001b[0m\n\u001b[0;32m     87\u001b[0m \u001b[1;33m\u001b[0m\u001b[0m\n",
      "\u001b[1;32m~\\anaconda3\\lib\\site-packages\\sklearn\\utils\\multiclass.py\u001b[0m in \u001b[0;36mtype_of_target\u001b[1;34m(y)\u001b[0m\n\u001b[0;32m    322\u001b[0m     \u001b[1;32mif\u001b[0m \u001b[0my\u001b[0m\u001b[1;33m.\u001b[0m\u001b[0mdtype\u001b[0m\u001b[1;33m.\u001b[0m\u001b[0mkind\u001b[0m \u001b[1;33m==\u001b[0m \u001b[1;34m\"f\"\u001b[0m \u001b[1;32mand\u001b[0m \u001b[0mnp\u001b[0m\u001b[1;33m.\u001b[0m\u001b[0many\u001b[0m\u001b[1;33m(\u001b[0m\u001b[0my\u001b[0m \u001b[1;33m!=\u001b[0m \u001b[0my\u001b[0m\u001b[1;33m.\u001b[0m\u001b[0mastype\u001b[0m\u001b[1;33m(\u001b[0m\u001b[0mint\u001b[0m\u001b[1;33m)\u001b[0m\u001b[1;33m)\u001b[0m\u001b[1;33m:\u001b[0m\u001b[1;33m\u001b[0m\u001b[1;33m\u001b[0m\u001b[0m\n\u001b[0;32m    323\u001b[0m         \u001b[1;31m# [.1, .2, 3] or [[.1, .2, 3]] or [[1., .2]] and not [1., 2., 3.]\u001b[0m\u001b[1;33m\u001b[0m\u001b[1;33m\u001b[0m\u001b[0m\n\u001b[1;32m--> 324\u001b[1;33m         \u001b[0m_assert_all_finite\u001b[0m\u001b[1;33m(\u001b[0m\u001b[0my\u001b[0m\u001b[1;33m)\u001b[0m\u001b[1;33m\u001b[0m\u001b[1;33m\u001b[0m\u001b[0m\n\u001b[0m\u001b[0;32m    325\u001b[0m         \u001b[1;32mreturn\u001b[0m \u001b[1;34m\"continuous\"\u001b[0m \u001b[1;33m+\u001b[0m \u001b[0msuffix\u001b[0m\u001b[1;33m\u001b[0m\u001b[1;33m\u001b[0m\u001b[0m\n\u001b[0;32m    326\u001b[0m \u001b[1;33m\u001b[0m\u001b[0m\n",
      "\u001b[1;32m~\\anaconda3\\lib\\site-packages\\sklearn\\utils\\validation.py\u001b[0m in \u001b[0;36m_assert_all_finite\u001b[1;34m(X, allow_nan, msg_dtype)\u001b[0m\n\u001b[0;32m    112\u001b[0m         ):\n\u001b[0;32m    113\u001b[0m             \u001b[0mtype_err\u001b[0m \u001b[1;33m=\u001b[0m \u001b[1;34m\"infinity\"\u001b[0m \u001b[1;32mif\u001b[0m \u001b[0mallow_nan\u001b[0m \u001b[1;32melse\u001b[0m \u001b[1;34m\"NaN, infinity\"\u001b[0m\u001b[1;33m\u001b[0m\u001b[1;33m\u001b[0m\u001b[0m\n\u001b[1;32m--> 114\u001b[1;33m             raise ValueError(\n\u001b[0m\u001b[0;32m    115\u001b[0m                 msg_err.format(\n\u001b[0;32m    116\u001b[0m                     \u001b[0mtype_err\u001b[0m\u001b[1;33m,\u001b[0m \u001b[0mmsg_dtype\u001b[0m \u001b[1;32mif\u001b[0m \u001b[0mmsg_dtype\u001b[0m \u001b[1;32mis\u001b[0m \u001b[1;32mnot\u001b[0m \u001b[1;32mNone\u001b[0m \u001b[1;32melse\u001b[0m \u001b[0mX\u001b[0m\u001b[1;33m.\u001b[0m\u001b[0mdtype\u001b[0m\u001b[1;33m\u001b[0m\u001b[1;33m\u001b[0m\u001b[0m\n",
      "\u001b[1;31mValueError\u001b[0m: Input contains NaN, infinity or a value too large for dtype('float64')."
     ]
    }
   ],
   "source": [
    "print(classification_report(y_test,pred))\n",
    "print(confusion_matrix(y_test,pred))"
   ]
  },
  {
   "cell_type": "code",
   "execution_count": null,
   "id": "022f1e85-fd4a-433d-998c-08ce2aee3290",
   "metadata": {},
   "outputs": [],
   "source": []
  },
  {
   "cell_type": "code",
   "execution_count": null,
   "id": "78f4bf94-ae42-44de-9406-b8391b51a7a3",
   "metadata": {},
   "outputs": [],
   "source": []
  },
  {
   "cell_type": "code",
   "execution_count": null,
   "id": "25787030-688a-4589-a4b4-ec364d166b1b",
   "metadata": {},
   "outputs": [],
   "source": [
    "for i,x in zip(lstFilesDCM[0:1],df_f['encoded_age']):\n",
    "    imgL = pydicom.read_file(i)\n",
    "    image = imgL.pixel_array\n",
    "    image = np.pad(image, ((100, 100), (100, 100)), mode=\"constant\", constant_values=x)\n",
    "    plt.imshow(image , cmap=\"gray\", vmin=0, vmax=255)\n",
    "    print(x)\n",
    "    "
   ]
  },
  {
   "cell_type": "code",
   "execution_count": null,
   "id": "539cd386-07ad-47df-866c-b79260ae35d2",
   "metadata": {},
   "outputs": [],
   "source": []
  },
  {
   "cell_type": "code",
   "execution_count": null,
   "id": "c8f35e5b-0956-47fb-b0be-6a5c966eb384",
   "metadata": {},
   "outputs": [],
   "source": [
    "plt.figure()\n",
    "image = imgL[1].pixel_array\n",
    "imag = imgL[1].pixel_array\n",
    "# Add white pixels around the image\n",
    "image = np.pad(image, ((100, 100), (100, 100)), mode=\"constant\", constant_values=155)\n",
    "f,ax = plt.subplots(1,2)\n",
    "ax[0].imshow(image , cmap=\"gray\", vmin=0, vmax=255)\n",
    "ax[1].imshow(imag , cmap=\"gray\", vmin=0, vmax=255)\n",
    "# Save the padded image to a new DICOM file\n",
    "#imgL[0].PixelData = image.tobytes()"
   ]
  },
  {
   "cell_type": "code",
   "execution_count": null,
   "id": "2189df78-64dc-4a89-8485-943a79eab4ce",
   "metadata": {},
   "outputs": [],
   "source": [
    "image = imgL[1].pixel_array\n",
    "\n",
    "# Add white pixels around the image\n",
    "# image = np.pad(image, ((100, 100), (100, 100)), mode=\"constant\", constant_values=155)\n"
   ]
  },
  {
   "cell_type": "code",
   "execution_count": null,
   "id": "c44c7b5b-b0d6-4849-832e-7effe87d2d32",
   "metadata": {},
   "outputs": [],
   "source": []
  },
  {
   "cell_type": "code",
   "execution_count": null,
   "id": "7292ce48-e5a0-4231-8c24-62017cc6734d",
   "metadata": {},
   "outputs": [],
   "source": []
  }
 ],
 "metadata": {
  "kernelspec": {
   "display_name": "Python 3 (ipykernel)",
   "language": "python",
   "name": "python3"
  },
  "language_info": {
   "codemirror_mode": {
    "name": "ipython",
    "version": 3
   },
   "file_extension": ".py",
   "mimetype": "text/x-python",
   "name": "python",
   "nbconvert_exporter": "python",
   "pygments_lexer": "ipython3",
   "version": "3.9.13"
  }
 },
 "nbformat": 4,
 "nbformat_minor": 5
}
